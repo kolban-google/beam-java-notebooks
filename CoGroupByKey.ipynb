{
 "cells": [
  {
   "cell_type": "markdown",
   "id": "ecb7f722",
   "metadata": {},
   "source": [
    "# Apache Beam - CoGroupByKey"
   ]
  },
  {
   "cell_type": "markdown",
   "id": "1a283caf",
   "metadata": {},
   "source": [
    "The `GroupByKey` transform performs a database style join against a collection PCollections.  We assume that each of the input PCollections contains KV elements.  We assume that we are going to join on the keys in PCollection KV elements.  The input to a CoGroupByKey is a KeyedPCollectionTuple.  This takes a bit of explanation.  Let us consider two PCollections:\n",
    "\n",
    "The first we call `emailPCollection` which is a `PCollection<KV<String, String>>` that contains `<name, emailAddress>` elements.\n",
    "\n",
    "The second we call `agePCollection` which is a `PCollection<KV<String, Integer>>` that contains `<name, age>` elements.\n",
    "\n",
    "What we want to do is create a KeyedPCollectionTuple that will contain both the `emailPCollection` and the `agePCollection`.  To achieve this, we will also tag each of the input PCollections with a `TupleTag`.\n",
    "\n",
    "```\n",
    "final TupleTag<String> emailsTag = new TupleTag<>();\n",
    "final TupleTag<Integer> agesTag = new TupleTag<>();\n",
    "```\n",
    "\n",
    "Now we can create our KeyedPCollectionTuple:\n",
    "\n",
    "```\n",
    "KeyedPCollectionTuple myKeyedPCollectionTuple = KeyedPCollectionTuple.of(emailsTag, emails)\n",
    "  .and(agesTag, agesPCollection)\n",
    "```\n",
    "\n",
    "The `CoGroupByKey` is a `PTransform` that takes as input a `KeyedPCollectionTuple<K>` and returns a `PCollection<KV<K, CoGbkResult>>`.\n",
    "\n",
    "Now we have to understand the CoGbkResult.  This is an object that contains multiple iterables where each iterable is associated with a tag.  For any given instance of CoGbkResult, we can ask it for the iterable for a given tag using the `CoGbkResult.getAll(tag)` method.\n",
    "\n",
    "\n",
    "* [JavaDoc: Class CoGroupByKey](https://beam.apache.org/releases/javadoc/2.42.0/index.html?org/apache/beam/sdk/transforms/join/CoGroupByKey.html)\n",
    "* [JavaDoc: Class TupleTag](https://beam.apache.org/releases/javadoc/2.42.0/org/apache/beam/sdk/values/TupleTag.html)\n",
    "* [JavaDoc: Class KeyedPCollectionTuple](https://beam.apache.org/releases/javadoc/2.42.0/org/apache/beam/sdk/transforms/join/KeyedPCollectionTuple.html)\n",
    "* [JavaDoc: Class CoGbkResult](https://beam.apache.org/releases/javadoc/2.42.0/org/apache/beam/sdk/transforms/join/CoGbkResult.html)\n",
    "* [CoGroupByKey](https://beam.apache.org/documentation/transforms/java/aggregation/cogroupbykey/)\n",
    "\n",
    "\n",
    "First, we define the dependencies that we wish to load from the Maven repositories."
   ]
  },
  {
   "cell_type": "code",
   "execution_count": 1,
   "id": "38402951",
   "metadata": {},
   "outputs": [],
   "source": [
    "%%loadFromPOM\n",
    "\n",
    "<dependency>\n",
    "  <groupId>org.apache.beam</groupId>\n",
    "  <artifactId>beam-sdks-java-core</artifactId>\n",
    "  <version>2.40.0</version>\n",
    "</dependency>\n",
    "\n",
    "<dependency>\n",
    "  <groupId>org.apache.beam</groupId>\n",
    "  <artifactId>beam-runners-direct-java</artifactId>\n",
    "  <version>2.40.0</version>\n",
    "  <scope>runtime</scope>\n",
    "</dependency>\n",
    "\n",
    "<dependency>\n",
    "  <groupId>org.slf4j</groupId>\n",
    "  <artifactId>slf4j-api</artifactId>\n",
    "  <version>2.0.6</version>\n",
    "</dependency>"
   ]
  },
  {
   "cell_type": "markdown",
   "id": "6211db4d",
   "metadata": {},
   "source": [
    "Next we define our imports required for execution."
   ]
  },
  {
   "cell_type": "code",
   "execution_count": 2,
   "id": "6a00821d",
   "metadata": {},
   "outputs": [],
   "source": [
    "import java.util.Arrays;\n",
    "import java.util.List;\n",
    "\n",
    "import org.apache.beam.sdk.Pipeline;\n",
    "import org.apache.beam.sdk.options.Default;\n",
    "import org.apache.beam.sdk.options.Description;\n",
    "import org.apache.beam.sdk.options.PipelineOptionsFactory;\n",
    "import org.apache.beam.sdk.options.PipelineOptions;\n",
    "import org.apache.beam.sdk.options.StreamingOptions;\n",
    "import org.apache.beam.sdk.transforms.Create;\n",
    "import org.apache.beam.sdk.transforms.GroupByKey;\n",
    "import org.apache.beam.sdk.values.PCollection;\n",
    "import org.apache.beam.sdk.transforms.DoFn;\n",
    "import org.apache.beam.sdk.transforms.ParDo;\n",
    "import org.apache.beam.sdk.coders.KvCoder;\n",
    "import org.apache.beam.sdk.coders.StringUtf8Coder;\n",
    "import org.apache.beam.sdk.values.KV;\n",
    "import org.apache.beam.sdk.values.PDone;\n",
    "import org.apache.beam.sdk.values.TupleTag;\n",
    "import org.apache.beam.sdk.transforms.join.CoGbkResult;\n",
    "import org.apache.beam.sdk.transforms.join.KeyedPCollectionTuple;\n",
    "import org.apache.beam.sdk.transforms.join.CoGroupByKey;\n",
    "\n",
    "String args[] = new String[] {};\n",
    "var options = PipelineOptionsFactory.fromArgs(args).withValidation().create();"
   ]
  },
  {
   "cell_type": "markdown",
   "id": "b7108954",
   "metadata": {},
   "source": [
    "And now we perform a Group By Key.  See how we have grouped all the keys and the resulting values are all the element values with the same key."
   ]
  },
  {
   "cell_type": "code",
   "execution_count": 4,
   "id": "1b53365e",
   "metadata": {},
   "outputs": [
    {
     "name": "stdout",
     "output_type": "stream",
     "text": [
      "KV{julia, [[julia@example.com], []]}\n",
      "KV{carl, [[carl@example.com, carl@email.com], [444-555-6666]]}\n",
      "KV{amy, [[amy@example.com], [111-222-3333, 333-444-5555]]}\n",
      "KV{james, [[], [222-333-4444]]}\n"
     ]
    },
    {
     "data": {
      "text/plain": [
       "DONE"
      ]
     },
     "execution_count": 4,
     "metadata": {},
     "output_type": "execute_result"
    }
   ],
   "source": [
    "final List<KV<String, String>> emailsList =\n",
    "    Arrays.asList(\n",
    "        KV.of(\"amy\", \"amy@example.com\"),\n",
    "        KV.of(\"carl\", \"carl@example.com\"),\n",
    "        KV.of(\"julia\", \"julia@example.com\"),\n",
    "        KV.of(\"carl\", \"carl@email.com\"));\n",
    "\n",
    "final List<KV<String, String>> phonesList =\n",
    "    Arrays.asList(\n",
    "        KV.of(\"amy\", \"111-222-3333\"),\n",
    "        KV.of(\"james\", \"222-333-4444\"),\n",
    "        KV.of(\"amy\", \"333-444-5555\"),\n",
    "        KV.of(\"carl\", \"444-555-6666\"));\n",
    "\n",
    "public class LoggingDoFn<T> extends DoFn<T, T>  {\n",
    "  @ProcessElement\n",
    "  public void processElement(\n",
    "    @Element T element,\n",
    "    OutputReceiver<T> out) {\n",
    "    System.out.println(element);\n",
    "    out.output(element);\n",
    "  }\n",
    "}\n",
    "\n",
    "var pipeline = Pipeline.create(options);\n",
    "PCollection<KV<String, String>> emails = pipeline.apply(\"CreateEmails\", Create.of(emailsList));\n",
    "PCollection<KV<String, String>> phones = pipeline.apply(\"CreatePhones\", Create.of(phonesList));\n",
    "final TupleTag<String> emailsTag = new TupleTag<>();\n",
    "final TupleTag<String> phonesTag = new TupleTag<>();\n",
    "\n",
    "PCollection<KV<String, CoGbkResult>> results =\n",
    "  KeyedPCollectionTuple.of(emailsTag, emails)\n",
    "    .and(phonesTag, phones)\n",
    "    .apply(\"Join on emails and phones\", CoGroupByKey.create())\n",
    "    .apply(\"Print elements\", ParDo.of(new LoggingDoFn<>()));\n",
    "\n",
    "pipeline.run().waitUntilFinish();"
   ]
  },
  {
   "cell_type": "code",
   "execution_count": null,
   "id": "62bfb7d8",
   "metadata": {},
   "outputs": [],
   "source": []
  }
 ],
 "metadata": {
  "kernelspec": {
   "display_name": "Java",
   "language": "java",
   "name": "java"
  },
  "language_info": {
   "codemirror_mode": "java",
   "file_extension": ".jshell",
   "mimetype": "text/x-java-source",
   "name": "Java",
   "pygments_lexer": "java",
   "version": "11.0.16+8-post-Debian-1deb10u1"
  }
 },
 "nbformat": 4,
 "nbformat_minor": 5
}
