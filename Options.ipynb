{
 "cells": [
  {
   "cell_type": "markdown",
   "id": "ecb7f722",
   "metadata": {},
   "source": [
    "# Apache Beam - Options"
   ]
  },
  {
   "cell_type": "markdown",
   "id": "1a283caf",
   "metadata": {},
   "source": [
    "Apache Beam has many flags and options available for its execution.  These flags can be passed through command line options or coded in the application.\n",
    "\n",
    "See also:\n",
    "* [JavaDoc: PipelineOptions](https://beam.apache.org/releases/javadoc/2.43.0/org/apache/beam/sdk/options/PipelineOptions.html)\n",
    "* [JavaDoc: DirectOptions](https://beam.apache.org/releases/javadoc/2.43.0/org/apache/beam/runners/direct/DirectOptions.html)\n",
    "* [JavaDoc: BigQueryOptions](https://beam.apache.org/releases/javadoc/2.43.0/org/apache/beam/sdk/io/gcp/bigquery/BigQueryOptions.html)\n"
   ]
  },
  {
   "cell_type": "markdown",
   "id": "6211db4d",
   "metadata": {},
   "source": [
    "Next we define our imports required for execution."
   ]
  },
  {
   "cell_type": "code",
   "execution_count": 1,
   "id": "6a00821d",
   "metadata": {},
   "outputs": [],
   "source": [
    "import java.util.Arrays;\n",
    "import java.util.List;\n",
    "\n",
    "import org.apache.beam.sdk.Pipeline;\n",
    "import org.apache.beam.sdk.options.Default;\n",
    "import org.apache.beam.sdk.options.Description;\n",
    "import org.apache.beam.sdk.options.PipelineOptionsFactory;\n",
    "import org.apache.beam.sdk.options.PipelineOptions;\n",
    "import org.apache.beam.sdk.options.StreamingOptions;\n",
    "import org.apache.beam.sdk.transforms.Create;\n",
    "import org.apache.beam.sdk.values.PCollection;\n",
    "import org.apache.beam.sdk.transforms.DoFn;\n",
    "import org.apache.beam.sdk.transforms.ParDo;\n",
    "import org.apache.beam.sdk.coders.KvCoder;\n",
    "import org.apache.beam.sdk.coders.StringUtf8Coder;\n",
    "import org.apache.beam.sdk.values.KV;\n",
    "import org.apache.beam.sdk.transforms.Sample;\n",
    "import org.apache.beam.sdk.transforms.SerializableFunction;\n",
    "import org.apache.beam.sdk.transforms.MapElements;\n",
    "import org.apache.beam.sdk.values.TypeDescriptor;\n",
    "import org.apache.beam.sdk.io.gcp.pubsub.PubsubIO;\n",
    "import org.apache.beam.sdk.io.gcp.pubsub.PubsubMessage;\n",
    "import org.apache.beam.sdk.PipelineResult;\n",
    "import org.apache.beam.sdk.transforms.windowing.PaneInfo;\n",
    "import org.apache.beam.runners.direct.DirectOptions;\n",
    "import org.joda.time.Instant;"
   ]
  },
  {
   "cell_type": "markdown",
   "id": "bc063658",
   "metadata": {},
   "source": [
    "We can create a PipelineOptions from its factory:"
   ]
  },
  {
   "cell_type": "code",
   "execution_count": 2,
   "id": "f631d48f",
   "metadata": {},
   "outputs": [],
   "source": [
    "String args[] = new String[] {\"--tempLocation=gs://kolban-tmp\"};\n",
    "var options = PipelineOptionsFactory.fromArgs(args).withValidation().create();"
   ]
  },
  {
   "cell_type": "markdown",
   "id": "853b81be",
   "metadata": {},
   "source": [
    "To add settings directly, we can specify .as() to get an object instance of a specific set of settings and then access the setter/getter methods on it:"
   ]
  },
  {
   "cell_type": "code",
   "execution_count": 3,
   "id": "135aeaa8",
   "metadata": {},
   "outputs": [],
   "source": [
    "// In this example, we set the block on run option of the DirectRunner:\n",
    "options.as(DirectOptions.class).setBlockOnRun(false);"
   ]
  }
 ],
 "metadata": {
  "kernelspec": {
   "display_name": "Java",
   "language": "java",
   "name": "java"
  },
  "language_info": {
   "codemirror_mode": "java",
   "file_extension": ".jshell",
   "mimetype": "text/x-java-source",
   "name": "Java",
   "pygments_lexer": "java",
   "version": "11.0.16+8-post-Debian-1deb10u1"
  }
 },
 "nbformat": 4,
 "nbformat_minor": 5
}
