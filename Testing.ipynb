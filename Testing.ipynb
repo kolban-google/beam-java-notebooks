{
 "cells": [
  {
   "cell_type": "markdown",
   "id": "ecb7f722",
   "metadata": {},
   "source": [
    "# Apache Beam - Testing"
   ]
  },
  {
   "cell_type": "markdown",
   "id": "1a283caf",
   "metadata": {},
   "source": [
    "Beam provides a set of testing capabilities.\n",
    "\n",
    "\n",
    "* [Testing Unbounded Pipelines in Apache Beam](https://beam.apache.org/blog/test-stream/)\n",
    "* [Testing in Apache Beam Part 2: Stream](https://medium.com/@asitkovets/testing-in-apache-beam-part-2-stream-2a9950ba2bc7)\n",
    "* [Video: Understanding exactly-once processing and windowing in streaming pipelines](https://www.youtube.com/watch?v=DraQGkARegE)\n",
    "* [JavaDoc: Class TestStream](https://beam.apache.org/releases/javadoc/2.43.0/org/apache/beam/sdk/testing/TestStream.html)\n",
    "* [JavaDoc: Class GenerateSequence](https://beam.apache.org/releases/javadoc/2.43.0/org/apache/beam/sdk/io/GenerateSequence.html)\n",
    "* [Github: json-data-generator](https://github.com/vincentrussell/json-data-generator)\n",
    "* [GitHub: https://github.com/iht/beam-late-data](https://github.com/iht/beam-late-data)\n",
    "\n",
    "\n",
    "First, we define the dependencies that we wish to load from the Maven repositories."
   ]
  },
  {
   "cell_type": "code",
   "execution_count": 1,
   "id": "38402951",
   "metadata": {},
   "outputs": [],
   "source": [
    "%%loadFromPOM\n",
    "\n",
    "<dependency>\n",
    "  <groupId>org.apache.beam</groupId>\n",
    "  <artifactId>beam-sdks-java-core</artifactId>\n",
    "  <version>2.43.0</version>\n",
    "</dependency>\n",
    "\n",
    "<dependency>\n",
    "  <groupId>org.apache.beam</groupId>\n",
    "  <artifactId>beam-runners-direct-java</artifactId>\n",
    "  <version>2.43.0</version>\n",
    "  <scope>runtime</scope>\n",
    "</dependency>\n",
    "\n",
    "<dependency>\n",
    "    <groupId>org.slf4j</groupId>\n",
    "    <artifactId>slf4j-api</artifactId>\n",
    "    <version>2.0.6</version>\n",
    "</dependency>"
   ]
  },
  {
   "cell_type": "markdown",
   "id": "6211db4d",
   "metadata": {},
   "source": [
    "Next we define our imports required for execution."
   ]
  },
  {
   "cell_type": "code",
   "execution_count": 74,
   "id": "6a00821d",
   "metadata": {},
   "outputs": [],
   "source": [
    "import java.util.Arrays;\n",
    "import java.util.List;\n",
    "\n",
    "import org.apache.beam.sdk.Pipeline;\n",
    "import org.apache.beam.sdk.options.Default;\n",
    "import org.apache.beam.sdk.options.Description;\n",
    "import org.apache.beam.sdk.options.PipelineOptionsFactory;\n",
    "import org.apache.beam.sdk.options.PipelineOptions;\n",
    "import org.apache.beam.sdk.options.StreamingOptions;\n",
    "import org.apache.beam.sdk.transforms.Create;\n",
    "import org.apache.beam.sdk.transforms.DoFn;\n",
    "import org.apache.beam.sdk.transforms.ParDo;\n",
    "import org.apache.beam.sdk.transforms.windowing.Window;\n",
    "import org.apache.beam.sdk.transforms.windowing.FixedWindows;\n",
    "import org.apache.beam.sdk.transforms.windowing.AfterProcessingTime;\n",
    "import org.apache.beam.sdk.transforms.windowing.AfterWatermark;\n",
    "import org.apache.beam.sdk.transforms.SerializableFunction;\n",
    "import org.apache.beam.sdk.transforms.Sum;\n",
    "import org.apache.beam.sdk.transforms.MapElements;\n",
    "import org.apache.beam.sdk.schemas.Schema;\n",
    "import org.apache.beam.sdk.schemas.annotations.DefaultSchema;\n",
    "import org.apache.beam.sdk.schemas.JavaBeanSchema;\n",
    "import org.apache.beam.sdk.io.GenerateSequence;\n",
    "import org.apache.beam.sdk.coders.SerializableCoder;\n",
    "import org.apache.beam.sdk.coders.Coder;\n",
    "import org.apache.beam.sdk.values.TimestampedValue;\n",
    "import org.apache.beam.sdk.values.Row;\n",
    "import org.apache.beam.sdk.values.PCollection;\n",
    "import org.apache.beam.sdk.values.TypeDescriptors;\n",
    "import org.apache.beam.sdk.testing.TestStream;\n",
    "import org.joda.time.Duration;\n",
    "import org.joda.time.Instant;\n",
    "\n",
    "\n",
    "String args[] = new String[] {};\n",
    "var options = PipelineOptionsFactory.fromArgs(args).withValidation().create();"
   ]
  },
  {
   "cell_type": "markdown",
   "id": "ad43a0b9",
   "metadata": {},
   "source": [
    "We can generate a sequence of `PCollection<Long>` using GenerateSequence."
   ]
  },
  {
   "cell_type": "code",
   "execution_count": 18,
   "id": "843fa5f2",
   "metadata": {},
   "outputs": [
    {
     "name": "stdout",
     "output_type": "stream",
     "text": [
      "3\n",
      "4\n",
      "0\n",
      "1\n",
      "2\n"
     ]
    },
    {
     "data": {
      "text/plain": [
       "DONE"
      ]
     },
     "execution_count": 18,
     "metadata": {},
     "output_type": "execute_result"
    }
   ],
   "source": [
    "public class LoggingDoFn<T> extends DoFn<T, T>  {\n",
    "  @ProcessElement\n",
    "  public void processElement(@Element T element, OutputReceiver<T> out) {\n",
    "    System.out.println(element);\n",
    "    out.output(element);\n",
    "  }\n",
    "} // End of LoggingDoFn\n",
    "\n",
    "var pipeline = Pipeline.create(options);\n",
    "pipeline\n",
    "  .apply(\"Generate elements\", GenerateSequence.from(0).to(5))\n",
    "  .apply(\"Print elements\",ParDo.of(new LoggingDoFn<>()));\n",
    "pipeline.run().waitUntilFinish();"
   ]
  },
  {
   "cell_type": "markdown",
   "id": "e03fe12f",
   "metadata": {},
   "source": [
    "We can also generate an unbounded sequence"
   ]
  },
  {
   "cell_type": "code",
   "execution_count": 26,
   "id": "761d9a09",
   "metadata": {},
   "outputs": [
    {
     "ename": "EvaluationInterruptedException",
     "evalue": "Evaluator was interrupted while executing: 'pipeline.run().waitUntilFinish();'",
     "output_type": "error",
     "traceback": [
      "\u001b[1m\u001b[30m|   \u001b[1m\u001b[30mpipeline.run().waitUntilFinish();\u001b[0m",
      "\u001b[1m\u001b[31mEvaluation interrupted.\u001b[0m"
     ]
    }
   ],
   "source": [
    "var pipeline = Pipeline.create(options);\n",
    "pipeline\n",
    "  .apply(\"Generate elements\", GenerateSequence\n",
    "    .from(0)\n",
    "    .withMaxReadTime(Duration.standardSeconds(20))\n",
    "    .withRate(1, Duration.standardSeconds(1)))\n",
    "  .apply(\"Print elements\",ParDo.of(new LoggingDoFn<>()));\n",
    "pipeline.run().waitUntilFinish();"
   ]
  },
  {
   "cell_type": "markdown",
   "id": "b7108954",
   "metadata": {},
   "source": [
    "## TestStream\n",
    "We can use a beam source called TestStream to generate an unbounded source of specific elements.  There are two ways to create a TestStream:\n",
    "\n",
    "* `TestStream.create(Coder<T> coder)`\n",
    "* `TestStream.create(Schema schema)`\n",
    "\n",
    "The first allows us to build a resulting `PCollection<T>` while the second builds a `PCollection<Row>`.  Following the `create`, we can add elememnts by calling `addElement(...)`.  There are two flavors of this:\n",
    "\n",
    "* `addElement(T element, ...)`\n",
    "* `addElement(TimestampedValue<T> element, ...)`\n",
    "\n",
    "The first adds elements with no explicit event timestamp while the second adds elements with a given timestamp.  For example:\n",
    "\n",
    "```\n",
    "addElement(TimestampedValue.of(new Sale(\"blue\", 10.0, Instant.parse(\"2022-12-11\")), Instant.now()))\n",
    "```\n",
    "\n",
    "See also:\n",
    "* [JavaDoc: Class TimestampedValue](https://beam.apache.org/releases/javadoc/2.43.0/org/apache/beam/sdk/values/TimestampedValue.html)"
   ]
  },
  {
   "cell_type": "code",
   "execution_count": 75,
   "id": "c4c99386",
   "metadata": {},
   "outputs": [
    {
     "ename": "EvalException",
     "evalue": "Default values are not supported in Combine.globally() if the input PCollection is not windowed by GlobalWindows. Instead, use Combine.globally().withoutDefaults() to output an empty PCollection if the input PCollection is empty, or Combine.globally().asSingletonView() to get the default output of the CombineFn if the input PCollection is empty.",
     "output_type": "error",
     "traceback": [
      "\u001b[1m\u001b[31m---------------------------------------------------------------------------\u001b[0m",
      "\u001b[1m\u001b[31mjava.lang.IllegalStateException: Default values are not supported in Combine.globally() if the input PCollection is not windowed by GlobalWindows. Instead, use Combine.globally().withoutDefaults() to output an empty PCollection if the input PCollection is empty, or Combine.globally().asSingletonView() to get the default output of the CombineFn if the input PCollection is empty.\u001b[0m",
      "\u001b[1m\u001b[31m\tat org.apache.beam.sdk.transforms.Combine$Globally.expand(Combine.java:1192)\u001b[0m",
      "\u001b[1m\u001b[31m\tat org.apache.beam.sdk.transforms.Combine$Globally.expand(Combine.java:1069)\u001b[0m",
      "\u001b[1m\u001b[31m\tat org.apache.beam.sdk.Pipeline.applyInternal(Pipeline.java:548)\u001b[0m",
      "\u001b[1m\u001b[31m\tat org.apache.beam.sdk.Pipeline.applyTransform(Pipeline.java:499)\u001b[0m",
      "\u001b[1m\u001b[31m\tat org.apache.beam.sdk.values.PCollection.apply(PCollection.java:373)\u001b[0m",
      "\u001b[1m\u001b[31m\tat .(#139:1)\u001b[0m"
     ]
    }
   ],
   "source": [
    "public class LoggingDoFn<T> extends DoFn<T, T>  {\n",
    "  @ProcessElement\n",
    "  public void processElement(@Element T element, OutputReceiver<T> out, ProcessContext context) {\n",
    "    System.out.println(element + \" ts: \" + context.timestamp() + \", pane: \" + context.pane());\n",
    "    out.output(element);\n",
    "  }\n",
    "} // End of LoggingDoFn\n",
    "\n",
    "public class Sale implements Serializable{\n",
    "  private static final Schema saleSchema = Schema\n",
    "    .builder()\n",
    "    .addStringField(\"item\")\n",
    "    .addDoubleField(\"amount\")\n",
    "    .addDateTimeField(\"time\")\n",
    "    .build();\n",
    "  private String item;\n",
    "  private Double amount;\n",
    "  private Instant time;\n",
    "  \n",
    "  public Sale(String item, Double amount, Instant time) {\n",
    "    this.item = item;\n",
    "    this.amount = amount;\n",
    "    this.time = time;\n",
    "  }\n",
    "  \n",
    "  public String getItem() { return item; }\n",
    "  public Double getAmount() { return amount; }\n",
    "  public Instant getTime() { return time; }\n",
    "  public String toString() {\n",
    "    return \"item: \" + item + \", amount: \" + amount + \", time: \" + time;\n",
    "  }\n",
    "  public Row getRow() {\n",
    "    Row row = Row.withSchema(saleSchema)\n",
    "      .withFieldValue(\"item\", item)\n",
    "      .withFieldValue(\"amount\", amount)\n",
    "      .withFieldValue(\"time\", time)\n",
    "      .build();\n",
    "    return row;\n",
    "  }\n",
    "  \n",
    "  public static final Schema getSchema() {\n",
    "    return saleSchema;\n",
    "  }\n",
    "}\n",
    "\n",
    "\n",
    "var pipeline = Pipeline.create(options);\n",
    "pipeline\n",
    "  .apply(TestStream.create(SerializableCoder.of(Sale.class))\n",
    "    .addElements(TimestampedValue.of(new Sale(\"blue\", 10.0, Instant.parse(\"2022-12-11\")), Instant.now()))\n",
    "    .advanceWatermarkToInfinity())\n",
    "  /*\n",
    "  .apply(\"Create elements\", Create.of(\n",
    "    new Sale(\"blue\", 10.0, Instant.parse(\"2022-12-11\")).getRow(),\n",
    "    new Sale(\"green\", 12.0, Instant.parse(\"2022-12-11\")).getRow(),    \n",
    "    new Sale(\"red\", 15.0, Instant.parse(\"2022-12-12\")).getRow(),\n",
    "    new Sale(\"yellow\", 14.0, Instant.parse(\"2022-12-13\")).getRow()\n",
    "  ))\n",
    "  */\n",
    "  .apply(\"Window\", Window\n",
    "    .<Sale>into(FixedWindows.of(Duration.standardDays(1)))\n",
    "    .triggering(AfterWatermark.pastEndOfWindow())\n",
    "    .withAllowedLateness(Duration.ZERO)\n",
    "    .discardingFiredPanes()\n",
    "  )  \n",
    "  .apply(\"Print elements\", ParDo.of(new LoggingDoFn<>()));\n",
    "  \n",
    "pipeline.run().waitUntilFinish();"
   ]
  },
  {
   "cell_type": "code",
   "execution_count": null,
   "id": "423b567f",
   "metadata": {},
   "outputs": [],
   "source": []
  }
 ],
 "metadata": {
  "kernelspec": {
   "display_name": "Java",
   "language": "java",
   "name": "java"
  },
  "language_info": {
   "codemirror_mode": "java",
   "file_extension": ".jshell",
   "mimetype": "text/x-java-source",
   "name": "Java",
   "pygments_lexer": "java",
   "version": "11.0.16+8-post-Debian-1deb10u1"
  }
 },
 "nbformat": 4,
 "nbformat_minor": 5
}
