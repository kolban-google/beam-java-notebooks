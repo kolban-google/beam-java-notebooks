{
 "cells": [
  {
   "cell_type": "markdown",
   "id": "fb73368b",
   "metadata": {},
   "source": [
    "# Apache Beam - Notebooks\n",
    "This notebook provides information on using the IJava Notebook environment in conjunction with Apache Beam.\n",
    "\n",
    "See also:\n",
    "* [Jupyter notebooks, Java and Apache Beam](https://medium.com/@kolban1/jupyter-notebooks-java-and-apache-beam-3f1eafde3960)"
   ]
  },
  {
   "cell_type": "markdown",
   "id": "bf67e582",
   "metadata": {},
   "source": [
    "## Running with jshell at the command prompt.\n",
    "The notebooks use the Java Shell (JShell).  We can run our code outside of the notebook using the jshell command line.\n",
    "\n",
    "From within the notebook, we can export the JShell script from `File > Download As > Java (.jshell)`.\n",
    "\n",
    "```\n",
    "jshell --feedback verbose \\\n",
    "  --class-path \"/home/kolban/projects/beam/beam-java-notebooks/target/dependency/*\" \\\n",
    "  PubSub.jshell\n",
    "```\n",
    "\n",
    "Unfortunately, there are some issues.  Consider this fragment:\n",
    "\n",
    "```\n",
    "var pipeline = Pipeline.create(options);\n",
    "pipeline\n",
    "  .apply(\"Generate elements\", GenerateSequence.from(0).to(5))\n",
    "  .apply(\"Print elements\",ParDo.of(new LoggingDoFn<>()));\n",
    "pipeline.run().waitUntilFinish();\n",
    "```\n",
    "\n",
    "Notice how we have split the statement across multiple source lines.  When we try and execute this in JShell, we get errors:\n",
    "\n",
    "```\n",
    "Error:\n",
    "illegal start of expression\n",
    "  .apply(\"Generate elements\", GenerateSequence.from(0).to(5))\n",
    "  ^\n",
    "Error:\n",
    "illegal start of expression\n",
    "  .apply(\"Print elements\",ParDo.of(new LoggingDoFn<>()));\n",
    "  ^\n",
    "```\n",
    "\n",
    "The workaround is to join such lines together.\n",
    "\n",
    "See also:\n",
    "* [Introduction to JShell](https://docs.oracle.com/en/java/javase/19/jshell/introduction-jshell.html)"
   ]
  },
  {
   "cell_type": "code",
   "execution_count": null,
   "id": "b664ae16",
   "metadata": {},
   "outputs": [],
   "source": []
  }
 ],
 "metadata": {
  "kernelspec": {
   "display_name": "Java",
   "language": "java",
   "name": "java"
  },
  "language_info": {
   "codemirror_mode": "java",
   "file_extension": ".jshell",
   "mimetype": "text/x-java-source",
   "name": "Java",
   "pygments_lexer": "java",
   "version": "11.0.16+8-post-Debian-1deb10u1"
  }
 },
 "nbformat": 4,
 "nbformat_minor": 5
}
