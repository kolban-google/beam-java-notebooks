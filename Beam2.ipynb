{
 "cells": [
  {
   "cell_type": "markdown",
   "id": "ecb7f722",
   "metadata": {},
   "source": [
    "## Test #2 - Apache Beam with Dataflow"
   ]
  },
  {
   "cell_type": "markdown",
   "id": "1a283caf",
   "metadata": {},
   "source": [
    "First, we define the dependencies that we wish to load from the Maven repositories.  Since we are performing this outside of Jupyter:\n",
    "\n",
    "```\n",
    "<?xml version=\"1.0\" encoding=\"UTF-8\"?>\n",
    "\n",
    "<project xmlns=\"http://maven.apache.org/POM/4.0.0\"\n",
    "  xmlns:xsi=\"http://www.w3.org/2001/XMLSchema-instance\" xsi:schemaLocation=\"http://maven.apache.org/POM/4.0.0 http://maven.apache.org/xsd/maven-4.0.0.xsd\">\n",
    "  <modelVersion>4.0.0</modelVersion>\n",
    "\n",
    "  <groupId>jupyter</groupId>\n",
    "  <artifactId>jupyter</artifactId>\n",
    "  <version>1</version>\n",
    "\n",
    "  <dependencies>\n",
    "    <dependency>\n",
    "      <groupId>org.apache.beam</groupId>\n",
    "      <artifactId>beam-sdks-java-core</artifactId>\n",
    "      <version>2.40.0</version>\n",
    "    </dependency>\n",
    "\n",
    "    <dependency>\n",
    "      <groupId>org.apache.beam</groupId>\n",
    "      <artifactId>beam-runners-direct-java</artifactId>\n",
    "      <version>2.40.0</version>\n",
    "      <scope>runtime</scope>\n",
    "    </dependency>\n",
    "\n",
    "    <dependency>\n",
    "      <groupId>org.apache.beam</groupId>\n",
    "      <artifactId>beam-runners-google-cloud-dataflow-java</artifactId>\n",
    "      <version>2.40.0</version>\n",
    "    </dependency>\n",
    "\n",
    "    <dependency>\n",
    "      <groupId>org.slf4j</groupId>\n",
    "      <artifactId>slf4j-jdk14</artifactId>\n",
    "      <version>1.7.32</version>\n",
    "    </dependency>\n",
    "  </dependencies>\n",
    "</project>\n",
    "```\n",
    "\n",
    "next we run:\n",
    "\n",
    "```\n",
    "mvn dependency:copy-dependencies\n",
    "```\n",
    "\n",
    "Finally, we set an environment variable and re-run Jupyter:\n",
    "\n",
    "```\n",
    "export IJAVA_CLASSPATH=\"/pathToDepenencies/*\"\n",
    "jupyter notebook\n",
    "```"
   ]
  },
  {
   "cell_type": "markdown",
   "id": "6211db4d",
   "metadata": {},
   "source": [
    "Next we define our core code that builds the Apache Beam pipeline:"
   ]
  },
  {
   "cell_type": "code",
   "execution_count": 1,
   "id": "09e88661",
   "metadata": {},
   "outputs": [],
   "source": [
    "import java.util.Arrays;\n",
    "import java.util.List;\n",
    "\n",
    "import org.apache.beam.sdk.Pipeline;\n",
    "import org.apache.beam.sdk.PipelineResult;\n",
    "import org.apache.beam.sdk.coders.StringUtf8Coder;\n",
    "import org.apache.beam.sdk.options.Default;\n",
    "import org.apache.beam.sdk.options.Description;\n",
    "import org.apache.beam.sdk.options.PipelineOptionsFactory;\n",
    "import org.apache.beam.sdk.options.StreamingOptions;\n",
    "import org.apache.beam.sdk.transforms.Create;\n",
    "import org.apache.beam.sdk.transforms.MapElements;\n",
    "import org.apache.beam.sdk.values.PCollection;\n",
    "import org.apache.beam.sdk.values.TypeDescriptors;\n",
    "import org.apache.beam.sdk.transforms.SimpleFunction;\n",
    "\n",
    "public interface Options extends StreamingOptions {\n",
    "  @Description(\"Input text to print.\")\n",
    "  @Default.String(\"My input text\")\n",
    "  String getInputText();\n",
    "\n",
    "  void setInputText(String value);\n",
    "}\n",
    "\n",
    "public class X {\n",
    "public static PCollection<String> buildPipeline(Pipeline pipeline, String inputText) {\n",
    "  return pipeline\n",
    "    .apply(\"Create elements\", Create.of(Arrays.asList(\"Hello!\", \"World!\", inputText)))\n",
    "    .apply(\"Print elements\",\n",
    "      MapElements.via(\n",
    "          new SimpleFunction<String, String>() {\n",
    "              @Override\n",
    "              public String apply(String text) {\n",
    "                  System.out.println(text);\n",
    "                  return text;\n",
    "              }\n",
    "          }\n",
    "    )\n",
    "  );\n",
    "}\n",
    "}"
   ]
  },
  {
   "cell_type": "markdown",
   "id": "ad43a0b9",
   "metadata": {},
   "source": [
    "Finally, we run the pipeline and see the output:"
   ]
  },
  {
   "cell_type": "code",
   "execution_count": 4,
   "id": "843fa5f2",
   "metadata": {},
   "outputs": [],
   "source": [
    "public class Y {\n",
    "    public static void main() {\n",
    "        String args[] = new String[] {\"--runner=DataflowRunner\",\"--region=us-central1\",\"--inputText=XXX YYY\"};\n",
    "\n",
    "        Options options = PipelineOptionsFactory.fromArgs(args).withValidation().as(Options.class);\n",
    "        Pipeline pipeline = Pipeline.create(options);\n",
    "        X.buildPipeline(pipeline, options.getInputText());\n",
    "        PipelineResult result = pipeline.run();\n",
    "    }\n",
    "}\n"
   ]
  },
  {
   "cell_type": "code",
   "execution_count": 3,
   "id": "fbcd5e6e",
   "metadata": {},
   "outputs": [
    {
     "name": "stdout",
     "output_type": "stream",
     "text": [
      "RUNNING\n"
     ]
    }
   ],
   "source": [
    "System.out.println(result.getState());"
   ]
  },
  {
   "cell_type": "code",
   "execution_count": 5,
   "id": "c23ea74a",
   "metadata": {},
   "outputs": [],
   "source": [
    "Y.main();"
   ]
  },
  {
   "cell_type": "code",
   "execution_count": null,
   "id": "ebb65a5b",
   "metadata": {},
   "outputs": [],
   "source": []
  }
 ],
 "metadata": {
  "kernelspec": {
   "display_name": "Java",
   "language": "java",
   "name": "java"
  },
  "language_info": {
   "codemirror_mode": "java",
   "file_extension": ".jshell",
   "mimetype": "text/x-java-source",
   "name": "Java",
   "pygments_lexer": "java",
   "version": "11.0.16+8-post-Debian-1deb10u1"
  }
 },
 "nbformat": 4,
 "nbformat_minor": 5
}
