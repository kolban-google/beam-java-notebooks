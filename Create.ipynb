{
 "cells": [
  {
   "cell_type": "markdown",
   "id": "ecb7f722",
   "metadata": {},
   "source": [
    "# Apache Beam - Create"
   ]
  },
  {
   "cell_type": "markdown",
   "id": "1a283caf",
   "metadata": {},
   "source": [
    "The `Create` class takes as input a collection of Java elements of a given type (T) and returns a `PCollection` containing those elements.  i.e.  `PCollection<T>`\n",
    "\n",
    "\n",
    "* [JavaDoc: Class Create](https://beam.apache.org/releases/javadoc/2.42.0/org/apache/beam/sdk/transforms/Create.html)\n",
    "\n",
    "\n",
    "First, we define the dependencies that we wish to load from the Maven repositories."
   ]
  },
  {
   "cell_type": "code",
   "execution_count": 1,
   "id": "38402951",
   "metadata": {},
   "outputs": [],
   "source": [
    "%%loadFromPOM\n",
    "\n",
    "<dependency>\n",
    "  <groupId>org.apache.beam</groupId>\n",
    "  <artifactId>beam-sdks-java-core</artifactId>\n",
    "  <version>2.43.0</version>\n",
    "</dependency>\n",
    "\n",
    "<dependency>\n",
    "  <groupId>org.apache.beam</groupId>\n",
    "  <artifactId>beam-runners-direct-java</artifactId>\n",
    "  <version>2.43.0</version>\n",
    "  <scope>runtime</scope>\n",
    "</dependency>\n",
    "\n",
    "<dependency>\n",
    "    <groupId>org.slf4j</groupId>\n",
    "    <artifactId>slf4j-api</artifactId>\n",
    "    <version>2.0.6</version>\n",
    "</dependency>"
   ]
  },
  {
   "cell_type": "markdown",
   "id": "6211db4d",
   "metadata": {},
   "source": [
    "Next we define our imports required for execution."
   ]
  },
  {
   "cell_type": "code",
   "execution_count": 2,
   "id": "6a00821d",
   "metadata": {},
   "outputs": [],
   "source": [
    "import java.util.Arrays;\n",
    "import java.util.List;\n",
    "\n",
    "import org.apache.beam.sdk.Pipeline;\n",
    "import org.apache.beam.sdk.options.Default;\n",
    "import org.apache.beam.sdk.options.Description;\n",
    "import org.apache.beam.sdk.options.PipelineOptionsFactory;\n",
    "import org.apache.beam.sdk.options.PipelineOptions;\n",
    "import org.apache.beam.sdk.options.StreamingOptions;\n",
    "import org.apache.beam.sdk.transforms.Create;\n",
    "import org.apache.beam.sdk.values.PCollection;\n",
    "import org.apache.beam.sdk.transforms.DoFn;\n",
    "import org.apache.beam.sdk.transforms.ParDo;\n",
    "import org.apache.beam.sdk.coders.KvCoder;\n",
    "import org.apache.beam.sdk.coders.StringUtf8Coder;\n",
    "import org.apache.beam.sdk.values.KV;\n",
    "import org.apache.beam.sdk.schemas.annotations.DefaultSchema;\n",
    "import org.apache.beam.sdk.schemas.JavaBeanSchema;\n",
    "\n",
    "String args[] = new String[] {};\n",
    "var options = PipelineOptionsFactory.fromArgs(args).withValidation().create();"
   ]
  },
  {
   "cell_type": "markdown",
   "id": "ad43a0b9",
   "metadata": {},
   "source": [
    "First, here is a PCollection of strings:"
   ]
  },
  {
   "cell_type": "code",
   "execution_count": 3,
   "id": "843fa5f2",
   "metadata": {},
   "outputs": [
    {
     "name": "stdout",
     "output_type": "stream",
     "text": [
      "World!\n",
      "Hello!\n"
     ]
    },
    {
     "data": {
      "text/plain": [
       "DONE"
      ]
     },
     "execution_count": 3,
     "metadata": {},
     "output_type": "execute_result"
    }
   ],
   "source": [
    "public class LoggingDoFn<T> extends DoFn<T, T>  {\n",
    "  @ProcessElement\n",
    "  public void processElement(@Element T element, OutputReceiver<T> out) {\n",
    "    System.out.println(element);\n",
    "    out.output(element);\n",
    "  }\n",
    "}\n",
    "\n",
    "var pipeline = Pipeline.create(options);\n",
    "pipeline\n",
    "  .apply(\"Create elements\", Create.of(Arrays.asList(\"Hello!\", \"World!\")))\n",
    "  .apply(\"Print elements\",ParDo.of(new LoggingDoFn<>()));\n",
    "pipeline.run().waitUntilFinish();"
   ]
  },
  {
   "cell_type": "markdown",
   "id": "e03fe12f",
   "metadata": {},
   "source": [
    "And now we create a PCollection of numbers:"
   ]
  },
  {
   "cell_type": "code",
   "execution_count": 4,
   "id": "761d9a09",
   "metadata": {},
   "outputs": [
    {
     "name": "stdout",
     "output_type": "stream",
     "text": [
      "3\n",
      "5\n",
      "4\n"
     ]
    },
    {
     "data": {
      "text/plain": [
       "DONE"
      ]
     },
     "execution_count": 4,
     "metadata": {},
     "output_type": "execute_result"
    }
   ],
   "source": [
    "var pipeline = Pipeline.create(options);\n",
    "pipeline\n",
    "  .apply(\"Create elements\", Create.of(3,4,5))\n",
    "  .apply(\"Print elements\",ParDo.of(new LoggingDoFn<>()));\n",
    "pipeline.run().waitUntilFinish();"
   ]
  },
  {
   "cell_type": "markdown",
   "id": "b7108954",
   "metadata": {},
   "source": [
    "And now some key/value pairs:"
   ]
  },
  {
   "cell_type": "code",
   "execution_count": 5,
   "id": "1b53365e",
   "metadata": {},
   "outputs": [
    {
     "name": "stdout",
     "output_type": "stream",
     "text": [
      "KV{blue, Sarah}\n",
      "KV{red, John}\n",
      "KV{red, Fred}\n",
      "KV{blue, Mike}\n",
      "KV{green, Joan}\n"
     ]
    },
    {
     "data": {
      "text/plain": [
       "DONE"
      ]
     },
     "execution_count": 5,
     "metadata": {},
     "output_type": "execute_result"
    }
   ],
   "source": [
    " Set<KV<String, String>> set = new HashSet<KV<String, String>>();\n",
    " set.add(KV.of(\"red\", \"John\"));\n",
    " set.add(KV.of(\"blue\", \"Sarah\"));\n",
    " set.add(KV.of(\"blue\", \"Mike\"));\n",
    " set.add(KV.of(\"red\", \"Fred\"));\n",
    " set.add(KV.of(\"green\", \"Joan\"));\n",
    "\n",
    "var pipeline = Pipeline.create(options);\n",
    "pipeline\n",
    "  .apply(\"Create elements\", Create.of(set))\n",
    "  .apply(\"Print elements\",ParDo.of(new LoggingDoFn<>()));\n",
    "pipeline.run().waitUntilFinish();\n"
   ]
  },
  {
   "cell_type": "markdown",
   "id": "6f20d825",
   "metadata": {},
   "source": [
    "And now with some classes.  In this example, we annotate with a default generated schema."
   ]
  },
  {
   "cell_type": "code",
   "execution_count": 6,
   "id": "d514cfd0",
   "metadata": {},
   "outputs": [
    {
     "name": "stdout",
     "output_type": "stream",
     "text": [
      "Name: Sue, age: 27\n",
      "Name: Neil, age: 41\n"
     ]
    },
    {
     "data": {
      "text/plain": [
       "DONE"
      ]
     },
     "execution_count": 6,
     "metadata": {},
     "output_type": "execute_result"
    }
   ],
   "source": [
    "@DefaultSchema(JavaBeanSchema.class)\n",
    "class Person {\n",
    "  private String name;\n",
    "  private int age;\n",
    "  public Person() {}\n",
    "  public Person(String name, int age) {\n",
    "    this.name = name;\n",
    "    this.age = age;\n",
    "  }\n",
    "  public void setName(String name) {\n",
    "    this.name = name;\n",
    "  }\n",
    "  public String getName() {\n",
    "    return name;\n",
    "  }\n",
    "  public void setAge(int age) {\n",
    "    this.age = age;\n",
    "  }\n",
    "  public int getAge() {\n",
    "    return age;\n",
    "  }\n",
    "  public String toString() {\n",
    "    return \"Name: \" + name + \", age: \" + age;\n",
    "  }\n",
    "}\n",
    "\n",
    "var pipeline = Pipeline.create(options);\n",
    "pipeline\n",
    "  .apply(\"Create elements\", Create.of(new Person(\"Neil\", 41), new Person(\"Sue\", 27)))\n",
    "  .apply(\"Print elements\",ParDo.of(new LoggingDoFn<>()));\n",
    "pipeline.run().waitUntilFinish();"
   ]
  },
  {
   "cell_type": "markdown",
   "id": "6c19a0af",
   "metadata": {},
   "source": [
    "But what if we can't create a schema?  What if there is no coder for the class?"
   ]
  },
  {
   "cell_type": "code",
   "execution_count": 9,
   "id": "0837516a",
   "metadata": {},
   "outputs": [
    {
     "ename": "EvalException",
     "evalue": "Unable to infer a coder and no Coder was specified. Please set a coder by invoking Create.withCoder() explicitly  or a schema by invoking Create.withSchema().",
     "output_type": "error",
     "traceback": [
      "\u001b[1m\u001b[31m---------------------------------------------------------------------------\u001b[0m",
      "\u001b[1m\u001b[31mjava.lang.IllegalArgumentException: Unable to infer a coder and no Coder was specified. Please set a coder by invoking Create.withCoder() explicitly  or a schema by invoking Create.withSchema().\u001b[0m",
      "\u001b[1m\u001b[31m\tat org.apache.beam.sdk.transforms.Create$Values.expand(Create.java:363)\u001b[0m",
      "\u001b[1m\u001b[31m\tat org.apache.beam.sdk.transforms.Create$Values.expand(Create.java:277)\u001b[0m",
      "\u001b[1m\u001b[31m\tat org.apache.beam.sdk.Pipeline.applyInternal(Pipeline.java:548)\u001b[0m",
      "\u001b[1m\u001b[31m\tat org.apache.beam.sdk.Pipeline.applyTransform(Pipeline.java:499)\u001b[0m",
      "\u001b[1m\u001b[31m\tat org.apache.beam.sdk.values.PBegin.apply(PBegin.java:56)\u001b[0m",
      "\u001b[1m\u001b[31m\tat org.apache.beam.sdk.Pipeline.apply(Pipeline.java:192)\u001b[0m",
      "\u001b[1m\u001b[31m\tat .(#55:1)\u001b[0m"
     ]
    }
   ],
   "source": [
    "class Person2 {\n",
    "  private String name;\n",
    "  private int age;\n",
    "\n",
    "  public Person2(String name, int age) {\n",
    "    this.name = name;\n",
    "    this.age = age;\n",
    "  }\n",
    "\n",
    "  public String toString() {\n",
    "    return \"Name: \" + name + \", age: \" + age;\n",
    "  }\n",
    "}\n",
    "\n",
    "var pipeline = Pipeline.create(options);\n",
    "pipeline\n",
    "  .apply(\"Create elements\", Create.of(new Person2(\"Neil\", 41), new Person2(\"Sue\", 27)))\n",
    "  .apply(\"Print elements\",ParDo.of(new LoggingDoFn<>()));\n",
    "pipeline.run().waitUntilFinish();"
   ]
  },
  {
   "cell_type": "markdown",
   "id": "f2be6fa0",
   "metadata": {},
   "source": [
    "The easiest solution is to ensure the class is serializable:"
   ]
  },
  {
   "cell_type": "code",
   "execution_count": 10,
   "id": "49356ba0",
   "metadata": {},
   "outputs": [
    {
     "name": "stdout",
     "output_type": "stream",
     "text": [
      "Name: Sue, age: 27\n",
      "Name: Neil, age: 41\n"
     ]
    },
    {
     "data": {
      "text/plain": [
       "DONE"
      ]
     },
     "execution_count": 10,
     "metadata": {},
     "output_type": "execute_result"
    }
   ],
   "source": [
    "class Person2 implements Serializable{\n",
    "  private String name;\n",
    "  private int age;\n",
    "\n",
    "  public Person2(String name, int age) {\n",
    "    this.name = name;\n",
    "    this.age = age;\n",
    "  }\n",
    "\n",
    "  public String toString() {\n",
    "    return \"Name: \" + name + \", age: \" + age;\n",
    "  }\n",
    "}\n",
    "\n",
    "var pipeline = Pipeline.create(options);\n",
    "pipeline\n",
    "  .apply(\"Create elements\", Create.of(new Person2(\"Neil\", 41), new Person2(\"Sue\", 27)))\n",
    "  .apply(\"Print elements\",ParDo.of(new LoggingDoFn<>()));\n",
    "pipeline.run().waitUntilFinish();"
   ]
  },
  {
   "cell_type": "code",
   "execution_count": null,
   "id": "c4c99386",
   "metadata": {},
   "outputs": [],
   "source": []
  }
 ],
 "metadata": {
  "kernelspec": {
   "display_name": "Java",
   "language": "java",
   "name": "java"
  },
  "language_info": {
   "codemirror_mode": "java",
   "file_extension": ".jshell",
   "mimetype": "text/x-java-source",
   "name": "Java",
   "pygments_lexer": "java",
   "version": "11.0.16+8-post-Debian-1deb10u1"
  }
 },
 "nbformat": 4,
 "nbformat_minor": 5
}
