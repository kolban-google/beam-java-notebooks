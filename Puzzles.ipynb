{
 "cells": [
  {
   "cell_type": "markdown",
   "id": "ecb7f722",
   "metadata": {},
   "source": [
    "# Apache Beam - Puzzles"
   ]
  },
  {
   "cell_type": "markdown",
   "id": "1a283caf",
   "metadata": {},
   "source": [
    "This notebook contains unsolved puzzles"
   ]
  },
  {
   "cell_type": "markdown",
   "id": "6d6a7cef",
   "metadata": {},
   "source": [
    "Since our notebook is going to use Google Cloud SDK JARS we must include these in our dependencies.  Specifically, we need to include:\n",
    "\n",
    "```\n",
    "<dependency>\n",
    "  <groupId>org.apache.beam</groupId>\n",
    "  <artifactId>beam-sdks-java-io-google-cloud-platform</artifactId>\n",
    "  <version>2.43.0</version>\n",
    "</dependency>\n",
    "```\n",
    "\n",
    "Normally we would load our dependencies using the IJava Jupyter cell magic called `%%loadFromPom`.  Unfortunately, this doesn't work ([issue](https://github.com/SpencerPark/IJava/issues/139)).  A workaround is to download the dependencies outside of Jupyter and then launch Jupyter with the downloaded dependencies in the classpath.\n",
    "\n",
    "```\n",
    "mvn dependency:copy-dependencies\n",
    "export IJAVA_CLASSPATH=\"./target/dependency/*\"\n",
    "jupyter notebook\n",
    "\n",
    "```"
   ]
  },
  {
   "cell_type": "markdown",
   "id": "6211db4d",
   "metadata": {},
   "source": [
    "Next we define our imports required for execution."
   ]
  },
  {
   "cell_type": "code",
   "execution_count": 1,
   "id": "6a00821d",
   "metadata": {},
   "outputs": [
    {
     "name": "stderr",
     "output_type": "stream",
     "text": [
      "SLF4J: No SLF4J providers were found.\n",
      "SLF4J: Defaulting to no-operation (NOP) logger implementation\n",
      "SLF4J: See https://www.slf4j.org/codes.html#noProviders for further details.\n"
     ]
    }
   ],
   "source": [
    "import java.util.Arrays;\n",
    "import java.util.List;\n",
    "\n",
    "import org.apache.beam.sdk.Pipeline;\n",
    "import org.apache.beam.sdk.options.Default;\n",
    "import org.apache.beam.sdk.options.Description;\n",
    "import org.apache.beam.sdk.options.PipelineOptionsFactory;\n",
    "import org.apache.beam.sdk.options.PipelineOptions;\n",
    "import org.apache.beam.sdk.options.StreamingOptions;\n",
    "import org.apache.beam.sdk.transforms.Create;\n",
    "import org.apache.beam.sdk.values.PCollection;\n",
    "import org.apache.beam.sdk.transforms.DoFn;\n",
    "import org.apache.beam.sdk.transforms.ParDo;\n",
    "import org.apache.beam.sdk.coders.KvCoder;\n",
    "import org.apache.beam.sdk.coders.StringUtf8Coder;\n",
    "import org.apache.beam.sdk.values.KV;\n",
    "import org.apache.beam.sdk.io.gcp.bigquery.BigQueryIO;\n",
    "import org.apache.beam.sdk.transforms.Sample;\n",
    "import org.apache.beam.sdk.transforms.SerializableFunction;\n",
    "import org.apache.beam.sdk.io.gcp.bigquery.SchemaAndRecord;\n",
    "import org.apache.beam.sdk.io.gcp.bigquery.BigQueryIO.Write.WriteDisposition;\n",
    "import org.apache.beam.sdk.io.gcp.bigquery.BigQueryIO.Write.CreateDisposition;\n",
    "import com.google.api.services.bigquery.model.TableSchema;\n",
    "import com.google.api.services.bigquery.model.TableFieldSchema;\n",
    "import com.google.api.services.bigquery.model.TableRow;\n",
    "import org.apache.beam.sdk.io.gcp.bigquery.TableRowJsonCoder;\n",
    "import org.apache.beam.sdk.transforms.MapElements;\n",
    "import org.apache.beam.sdk.values.TypeDescriptor;\n",
    "import com.google.api.services.bigquery.model.TableReference;\n",
    "import org.apache.beam.sdk.io.gcp.bigquery.InsertRetryPolicy;\n",
    "\n",
    "String args[] = new String[] {};\n",
    "var options = PipelineOptionsFactory.fromArgs(args).withValidation().create();"
   ]
  },
  {
   "cell_type": "markdown",
   "id": "af0561f1",
   "metadata": {},
   "source": [
    "## Unchecked Method invocation\n",
    "The following fails with an `Unchecked Method Invocation`."
   ]
  },
  {
   "cell_type": "code",
   "execution_count": 44,
   "id": "ea3329a4",
   "metadata": {},
   "outputs": [
    {
     "ename": "CompilationException",
     "evalue": "",
     "output_type": "error",
     "traceback": [
      "\u001b[1m\u001b[30m|   \u001b[1m\u001b[30m  .apply(\"1\", \u001b[0m\u001b[1m\u001b[30m\u001b[41mParDo.of(new LoggingDoFn())\u001b[0m\u001b[1m\u001b[30m)  \u001b[0m",
      "\u001b[1m\u001b[31munchecked method invocation: method of in class org.apache.beam.sdk.transforms.ParDo is applied to given types\u001b[0m",
      "\u001b[1m\u001b[31m  required: org.apache.beam.sdk.transforms.DoFn<InputT,OutputT>\u001b[0m",
      "\u001b[1m\u001b[31m  found: LoggingDoFn\u001b[0m",
      "",
      "\u001b[1m\u001b[30m|   \u001b[1m\u001b[30m  .apply(\"1\", ParDo.of(\u001b[0m\u001b[1m\u001b[30m\u001b[41mnew LoggingDoFn()\u001b[0m\u001b[1m\u001b[30m))  \u001b[0m",
      "\u001b[1m\u001b[31munchecked conversion\u001b[0m",
      "\u001b[1m\u001b[31m  required: org.apache.beam.sdk.transforms.DoFn<InputT,OutputT>\u001b[0m",
      "\u001b[1m\u001b[31m  found:    LoggingDoFn\u001b[0m",
      "",
      "\u001b[1m\u001b[30m|   \u001b[1m\u001b[30m\u001b[0m\u001b[1m\u001b[30m\u001b[41mpipeline\u001b[0m",
      "\u001b[1m\u001b[30m|   \u001b[1m\u001b[30m\u001b[41m  .apply(\"Create Rows\", Create.\u001b[0m",
      "\u001b[1m\u001b[30m|   \u001b[1m\u001b[30m\u001b[41m    of(\u001b[0m",
      "\u001b[1m\u001b[30m|   \u001b[1m\u001b[30m\u001b[41m      new Employee(\"Neil\", 50000.11, 48),\u001b[0m",
      "\u001b[1m\u001b[30m|   \u001b[1m\u001b[30m\u001b[41m      new Employee(\"Sue\", 75000.99, 12),\u001b[0m",
      "\u001b[1m\u001b[30m|   \u001b[1m\u001b[30m\u001b[41m      new Employee(\"Bob\", 45000.32, 6)\u001b[0m",
      "\u001b[1m\u001b[30m|   \u001b[1m\u001b[30m\u001b[41m    )\u001b[0m",
      "\u001b[1m\u001b[30m|   \u001b[1m\u001b[30m\u001b[41m  )\u001b[0m",
      "\u001b[1m\u001b[30m|   \u001b[1m\u001b[30m\u001b[41m  .apply(\"1\", ParDo.of(new LoggingDoFn()))\u001b[0m\u001b[1m\u001b[30m  \u001b[0m",
      "\u001b[1m\u001b[31munchecked method invocation: method apply in class org.apache.beam.sdk.values.PCollection is applied to given types\u001b[0m",
      "\u001b[1m\u001b[31m  required: java.lang.String,org.apache.beam.sdk.transforms.PTransform<? super org.apache.beam.sdk.values.PCollection<T>,OutputT>\u001b[0m",
      "\u001b[1m\u001b[31m  found: java.lang.String,org.apache.beam.sdk.transforms.ParDo.SingleOutput\u001b[0m",
      "",
      "\u001b[1m\u001b[30m|   \u001b[1m\u001b[30m  .apply(\"1\", \u001b[0m\u001b[1m\u001b[30m\u001b[41mParDo.of(new LoggingDoFn())\u001b[0m\u001b[1m\u001b[30m)  \u001b[0m",
      "\u001b[1m\u001b[31munchecked conversion\u001b[0m",
      "\u001b[1m\u001b[31m  required: org.apache.beam.sdk.transforms.PTransform<? super org.apache.beam.sdk.values.PCollection<T>,OutputT>\u001b[0m",
      "\u001b[1m\u001b[31m  found:    org.apache.beam.sdk.transforms.ParDo.SingleOutput\u001b[0m",
      "",
      "\u001b[1m\u001b[30m|   \u001b[1m\u001b[30m\u001b[0m\u001b[1m\u001b[30m\u001b[41mpipeline\u001b[0m",
      "\u001b[1m\u001b[30m|   \u001b[1m\u001b[30m\u001b[41m  .apply(\"Create Rows\", Create.\u001b[0m",
      "\u001b[1m\u001b[30m|   \u001b[1m\u001b[30m\u001b[41m    of(\u001b[0m",
      "\u001b[1m\u001b[30m|   \u001b[1m\u001b[30m\u001b[41m      new Employee(\"Neil\", 50000.11, 48),\u001b[0m",
      "\u001b[1m\u001b[30m|   \u001b[1m\u001b[30m\u001b[41m      new Employee(\"Sue\", 75000.99, 12),\u001b[0m",
      "\u001b[1m\u001b[30m|   \u001b[1m\u001b[30m\u001b[41m      new Employee(\"Bob\", 45000.32, 6)\u001b[0m",
      "\u001b[1m\u001b[30m|   \u001b[1m\u001b[30m\u001b[41m    )\u001b[0m",
      "\u001b[1m\u001b[30m|   \u001b[1m\u001b[30m\u001b[41m  )\u001b[0m",
      "\u001b[1m\u001b[30m|   \u001b[1m\u001b[30m\u001b[41m  .apply(\"1\", ParDo.of(new LoggingDoFn()))  \u001b[0m",
      "\u001b[1m\u001b[30m|   \u001b[1m\u001b[30m\u001b[41m  .apply\u001b[0m\u001b[1m\u001b[30m(\"2\", ParDo.of(new LoggingDoFn()));\u001b[0m",
      "\u001b[1m\u001b[31mcannot find symbol\u001b[0m",
      "\u001b[1m\u001b[31m  symbol:   method apply(java.lang.String,org.apache.beam.sdk.transforms.ParDo.SingleOutput)\u001b[0m",
      "",
      "\u001b[1m\u001b[30m|   \u001b[1m\u001b[30m  .apply(\"2\", \u001b[0m\u001b[1m\u001b[30m\u001b[41mParDo.of(new LoggingDoFn())\u001b[0m\u001b[1m\u001b[30m);\u001b[0m",
      "\u001b[1m\u001b[31munchecked method invocation: method of in class org.apache.beam.sdk.transforms.ParDo is applied to given types\u001b[0m",
      "\u001b[1m\u001b[31m  required: org.apache.beam.sdk.transforms.DoFn<InputT,OutputT>\u001b[0m",
      "\u001b[1m\u001b[31m  found: LoggingDoFn\u001b[0m",
      "",
      "\u001b[1m\u001b[30m|   \u001b[1m\u001b[30m  .apply(\"2\", ParDo.of(\u001b[0m\u001b[1m\u001b[30m\u001b[41mnew LoggingDoFn()\u001b[0m\u001b[1m\u001b[30m));\u001b[0m",
      "\u001b[1m\u001b[31munchecked conversion\u001b[0m",
      "\u001b[1m\u001b[31m  required: org.apache.beam.sdk.transforms.DoFn<InputT,OutputT>\u001b[0m",
      "\u001b[1m\u001b[31m  found:    LoggingDoFn\u001b[0m",
      ""
     ]
    }
   ],
   "source": [
    "public class LoggingDoFn<T> extends DoFn<T, T>  {\n",
    "  @ProcessElement\n",
    "  public void processElement(@Element T element, OutputReceiver<T> out) {\n",
    "    System.out.println(element);\n",
    "    out.output(element);\n",
    "  }\n",
    "}\n",
    "\n",
    "class Employee implements Serializable {\n",
    "  private String name;\n",
    "  private Double salary;\n",
    "  private Integer tenure;\n",
    "  \n",
    "  public Employee(String name, Double salary, Integer tenure) {\n",
    "    this.name = name;\n",
    "    this.salary = salary;\n",
    "    this.tenure = tenure;\n",
    "  }\n",
    "  \n",
    "  public String toString() {\n",
    "    return \"name: \" + name + \", salary: \" + salary + \", tenure: \" + tenure;\n",
    "  }\n",
    "}\n",
    "\n",
    "var pipeline = Pipeline.create(options);\n",
    "pipeline\n",
    "  .apply(\"Create Rows\", Create.\n",
    "    of(\n",
    "      new Employee(\"Neil\", 50000.11, 48),\n",
    "      new Employee(\"Sue\", 75000.99, 12),\n",
    "      new Employee(\"Bob\", 45000.32, 6)\n",
    "    )\n",
    "  )\n",
    "  .apply(\"1\", ParDo.of(new LoggingDoFn()))  \n",
    "  .apply(\"2\", ParDo.of(new LoggingDoFn()));\n",
    "\n",
    "pipeline.run().waitUntilFinish();"
   ]
  },
  {
   "cell_type": "markdown",
   "id": "7b90ee8e",
   "metadata": {},
   "source": [
    "The solution is to provide a type to the LoggingDoFn."
   ]
  },
  {
   "cell_type": "code",
   "execution_count": 45,
   "id": "5d9cbeb2",
   "metadata": {},
   "outputs": [
    {
     "name": "stdout",
     "output_type": "stream",
     "text": [
      "name: Sue, salary: 75000.99, tenure: 12\n",
      "name: Neil, salary: 50000.11, tenure: 48\n",
      "name: Bob, salary: 45000.32, tenure: 6\n",
      "name: Neil, salary: 50000.11, tenure: 48\n",
      "name: Sue, salary: 75000.99, tenure: 12\n",
      "name: Bob, salary: 45000.32, tenure: 6\n"
     ]
    },
    {
     "data": {
      "text/plain": [
       "DONE"
      ]
     },
     "execution_count": 45,
     "metadata": {},
     "output_type": "execute_result"
    }
   ],
   "source": [
    "var pipeline = Pipeline.create(options);\n",
    "pipeline\n",
    "  .apply(\"Create Rows\", Create.\n",
    "    of(\n",
    "      new Employee(\"Neil\", 50000.11, 48),\n",
    "      new Employee(\"Sue\", 75000.99, 12),\n",
    "      new Employee(\"Bob\", 45000.32, 6)\n",
    "    )\n",
    "  )\n",
    "  .apply(\"1\", ParDo.of(new LoggingDoFn<>()))  \n",
    "  .apply(\"2\", ParDo.of(new LoggingDoFn<>()));\n",
    "\n",
    "pipeline.run().waitUntilFinish();"
   ]
  },
  {
   "cell_type": "code",
   "execution_count": null,
   "id": "9ba47612",
   "metadata": {},
   "outputs": [],
   "source": []
  }
 ],
 "metadata": {
  "kernelspec": {
   "display_name": "Java",
   "language": "java",
   "name": "java"
  },
  "language_info": {
   "codemirror_mode": "java",
   "file_extension": ".jshell",
   "mimetype": "text/x-java-source",
   "name": "Java",
   "pygments_lexer": "java",
   "version": "11.0.16+8-post-Debian-1deb10u1"
  }
 },
 "nbformat": 4,
 "nbformat_minor": 5
}
