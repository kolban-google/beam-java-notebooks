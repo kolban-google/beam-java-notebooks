{
 "cells": [
  {
   "cell_type": "markdown",
   "id": "ecb7f722",
   "metadata": {},
   "source": [
    "## Test #1 - Apache Beam"
   ]
  },
  {
   "cell_type": "markdown",
   "id": "1a283caf",
   "metadata": {},
   "source": [
    "First, we define the dependencies that we wish to load from the Maven repositories."
   ]
  },
  {
   "cell_type": "code",
   "execution_count": 1,
   "id": "38402951",
   "metadata": {},
   "outputs": [],
   "source": [
    "%%loadFromPOM\n",
    "\n",
    "<repository>\n",
    "  <id>myrepo</id>\n",
    "  <url>https://mvnrepository.com/artifact/com.google.cloud/libraries-bom</url>\n",
    "</repository>\n",
    "\n",
    "<dependency>\n",
    "  <groupId>org.apache.beam</groupId>\n",
    "  <artifactId>beam-sdks-java-core</artifactId>\n",
    "  <version>2.40.0</version>\n",
    "</dependency>\n",
    "\n",
    "<dependency>\n",
    "  <groupId>org.apache.beam</groupId>\n",
    "  <artifactId>beam-runners-direct-java</artifactId>\n",
    "  <version>2.40.0</version>\n",
    "  <scope>runtime</scope>\n",
    "</dependency>\n",
    "\n",
    "<dependency>\n",
    "    <groupId>org.slf4j</groupId>\n",
    "    <artifactId>slf4j-api</artifactId>\n",
    "    <version>2.0.6</version>\n",
    "</dependency>\n",
    "\n",
    "<dependency>\n",
    "    <groupId>org.slf4j</groupId>\n",
    "    <artifactId>slf4j-simple</artifactId>\n",
    "    <version>2.0.6</version>\n",
    "    <scope>test</scope>\n",
    "</dependency>"
   ]
  },
  {
   "cell_type": "markdown",
   "id": "6211db4d",
   "metadata": {},
   "source": [
    "Next we define our core code that builds the Apache Beam pipeline:"
   ]
  },
  {
   "cell_type": "code",
   "execution_count": 2,
   "id": "09e88661",
   "metadata": {},
   "outputs": [],
   "source": [
    "import java.util.Arrays;\n",
    "import java.util.List;\n",
    "\n",
    "import org.apache.beam.sdk.Pipeline;\n",
    "import org.apache.beam.sdk.coders.StringUtf8Coder;\n",
    "import org.apache.beam.sdk.options.Default;\n",
    "import org.apache.beam.sdk.options.Description;\n",
    "import org.apache.beam.sdk.options.PipelineOptionsFactory;\n",
    "import org.apache.beam.sdk.options.StreamingOptions;\n",
    "import org.apache.beam.sdk.transforms.Create;\n",
    "import org.apache.beam.sdk.transforms.MapElements;\n",
    "import org.apache.beam.sdk.values.PCollection;\n",
    "import org.apache.beam.sdk.values.TypeDescriptors;\n",
    "\n",
    "public interface Options extends StreamingOptions {\n",
    "  @Description(\"Input text to print.\")\n",
    "  @Default.String(\"My input text\")\n",
    "  String getInputText();\n",
    "\n",
    "  void setInputText(String value);\n",
    "}\n",
    "\n",
    "public static PCollection<String> buildPipeline(Pipeline pipeline, String inputText) {\n",
    "  return pipeline\n",
    "    .apply(\"Create elements\", Create.of(Arrays.asList(\"Hello!\", \"World!\", inputText)))\n",
    "    .apply(\"Print elements\",\n",
    "      MapElements.into(TypeDescriptors.strings()).via(x -> {\n",
    "        System.out.println(x);\n",
    "        return x;\n",
    "      }\n",
    "    )\n",
    "  );\n",
    "}"
   ]
  },
  {
   "cell_type": "markdown",
   "id": "ad43a0b9",
   "metadata": {},
   "source": [
    "Finally, we run the pipeline and see the output:"
   ]
  },
  {
   "cell_type": "code",
   "execution_count": 3,
   "id": "843fa5f2",
   "metadata": {},
   "outputs": [
    {
     "name": "stderr",
     "output_type": "stream",
     "text": [
      "SLF4J: No SLF4J providers were found.\n",
      "SLF4J: Defaulting to no-operation (NOP) logger implementation\n",
      "SLF4J: See https://www.slf4j.org/codes.html#noProviders for further details.\n"
     ]
    },
    {
     "name": "stdout",
     "output_type": "stream",
     "text": [
      "Hello!\n",
      "World!\n",
      "XXX YYY\n"
     ]
    },
    {
     "data": {
      "text/plain": [
       "DONE"
      ]
     },
     "execution_count": 3,
     "metadata": {},
     "output_type": "execute_result"
    }
   ],
   "source": [
    "String args[] = new String[] {\"--inputText=XXX YYY\"};\n",
    "\n",
    "var options = PipelineOptionsFactory.fromArgs(args).withValidation().as(Options.class);\n",
    "var pipeline = Pipeline.create(options);\n",
    "buildPipeline(pipeline, options.getInputText());\n",
    "pipeline.run().waitUntilFinish();"
   ]
  },
  {
   "cell_type": "code",
   "execution_count": null,
   "id": "382af866",
   "metadata": {},
   "outputs": [],
   "source": []
  }
 ],
 "metadata": {
  "kernelspec": {
   "display_name": "Java",
   "language": "java",
   "name": "java"
  },
  "language_info": {
   "codemirror_mode": "java",
   "file_extension": ".jshell",
   "mimetype": "text/x-java-source",
   "name": "Java",
   "pygments_lexer": "java",
   "version": "11.0.16+8-post-Debian-1deb10u1"
  }
 },
 "nbformat": 4,
 "nbformat_minor": 5
}
