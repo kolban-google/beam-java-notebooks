{
 "cells": [
  {
   "cell_type": "markdown",
   "id": "ecb7f722",
   "metadata": {},
   "source": [
    "# Apache Beam - Custom Transform"
   ]
  },
  {
   "cell_type": "markdown",
   "id": "1a283caf",
   "metadata": {},
   "source": [
    "So far we have been using the PTransforms supplied as part of Beam.  We can write our own PTransforms that encapsulate our own functions.\n",
    "\n",
    "At the highest level, the concept is:\n",
    "\n",
    "```\n",
    "public static class MyTransform extends PTransform<PCollection<String>, PCollection<String>> {\n",
    "  @Override\n",
    "  public PCollection<String> expand(PCollection<String> input) {\n",
    "    ... Do something with the input PCollection and return a new output PCollection\n",
    "  }\n",
    "}\n",
    "```\n",
    "\n",
    "* [JavaDoc: PTransform](https://beam.apache.org/releases/javadoc/2.42.0/org/apache/beam/sdk/transforms/PTransform.html)\n",
    "\n",
    "\n",
    "First, we define the dependencies that we wish to load from the Maven repositories."
   ]
  },
  {
   "cell_type": "code",
   "execution_count": 1,
   "id": "38402951",
   "metadata": {},
   "outputs": [],
   "source": [
    "%%loadFromPOM\n",
    "\n",
    "<dependency>\n",
    "  <groupId>org.apache.beam</groupId>\n",
    "  <artifactId>beam-sdks-java-core</artifactId>\n",
    "  <version>2.40.0</version>\n",
    "</dependency>\n",
    "\n",
    "<dependency>\n",
    "  <groupId>org.apache.beam</groupId>\n",
    "  <artifactId>beam-runners-direct-java</artifactId>\n",
    "  <version>2.40.0</version>\n",
    "  <scope>runtime</scope>\n",
    "</dependency>\n",
    "\n",
    "<dependency>\n",
    "  <groupId>org.slf4j</groupId>\n",
    "  <artifactId>slf4j-api</artifactId>\n",
    "  <version>2.0.6</version>\n",
    "</dependency>"
   ]
  },
  {
   "cell_type": "markdown",
   "id": "6211db4d",
   "metadata": {},
   "source": [
    "Next we define our imports required for execution."
   ]
  },
  {
   "cell_type": "code",
   "execution_count": 2,
   "id": "6a00821d",
   "metadata": {},
   "outputs": [],
   "source": [
    "import java.util.Arrays;\n",
    "import java.util.List;\n",
    "\n",
    "import org.apache.beam.sdk.Pipeline;\n",
    "import org.apache.beam.sdk.options.Default;\n",
    "import org.apache.beam.sdk.options.Description;\n",
    "import org.apache.beam.sdk.options.PipelineOptionsFactory;\n",
    "import org.apache.beam.sdk.options.PipelineOptions;\n",
    "import org.apache.beam.sdk.options.StreamingOptions;\n",
    "import org.apache.beam.sdk.transforms.Create;\n",
    "import org.apache.beam.sdk.transforms.GroupByKey;\n",
    "import org.apache.beam.sdk.values.PCollection;\n",
    "import org.apache.beam.sdk.transforms.DoFn;\n",
    "import org.apache.beam.sdk.transforms.ParDo;\n",
    "import org.apache.beam.sdk.coders.KvCoder;\n",
    "import org.apache.beam.sdk.coders.StringUtf8Coder;\n",
    "import org.apache.beam.sdk.values.KV;\n",
    "import org.apache.beam.sdk.values.PDone;\n",
    "import org.apache.beam.sdk.values.TupleTag;\n",
    "import org.apache.beam.sdk.transforms.join.CoGbkResult;\n",
    "import org.apache.beam.sdk.transforms.join.KeyedPCollectionTuple;\n",
    "import org.apache.beam.sdk.transforms.join.CoGroupByKey;\n",
    "import org.apache.beam.sdk.transforms.Combine.CombineFn;\n",
    "import org.apache.beam.sdk.transforms.Combine;\n",
    "import org.apache.beam.sdk.transforms.SerializableFunction;\n",
    "import org.apache.beam.sdk.transforms.Sum;\n",
    "import org.apache.beam.sdk.transforms.Count;\n",
    "import org.apache.beam.sdk.transforms.Distinct;\n",
    "import org.apache.beam.sdk.transforms.Filter;\n",
    "import org.apache.beam.sdk.transforms.PTransform;\n",
    "\n",
    "String args[] = new String[] {};\n",
    "var options = PipelineOptionsFactory.fromArgs(args).withValidation().create();"
   ]
  },
  {
   "cell_type": "markdown",
   "id": "b7108954",
   "metadata": {},
   "source": [
    "In this example we create a new PTransform called `Upper`.  This transform takes a `PCollection<String>` and returns a new `PCollection<String>` where all the elements in the original PCollection are converted to upper case.  The new transform overrides the `expand()` method to do its work."
   ]
  },
  {
   "cell_type": "code",
   "execution_count": 3,
   "id": "1b53365e",
   "metadata": {},
   "outputs": [
    {
     "name": "stdout",
     "output_type": "stream",
     "text": [
      "HELLO!\n",
      "WORLD!\n"
     ]
    },
    {
     "data": {
      "text/plain": [
       "DONE"
      ]
     },
     "execution_count": 3,
     "metadata": {},
     "output_type": "execute_result"
    }
   ],
   "source": [
    "public class LoggingDoFn<T> extends DoFn<T, T>  {\n",
    "  @ProcessElement\n",
    "  public void processElement(\n",
    "    @Element T element,\n",
    "    OutputReceiver<T> out) {\n",
    "    System.out.println(element);\n",
    "    out.output(element);\n",
    "  }\n",
    "}\n",
    "\n",
    "public static class Upper extends PTransform<PCollection<String>, PCollection<String>> {\n",
    "  \n",
    "  private class UpperDoFn extends DoFn<String, String> {\n",
    "    @ProcessElement\n",
    "    public void processElement(@Element String word, OutputReceiver<String> out) {\n",
    "        out.output(word.toUpperCase());\n",
    "    }\n",
    "  }\n",
    "  \n",
    "  public static Upper create() {\n",
    "    return new Upper();\n",
    "  } // End of Upper.create()\n",
    "  \n",
    "  @Override\n",
    "  public PCollection<String> expand(PCollection<String> inputPCollection) {\n",
    "    return inputPCollection.apply(\"To Upper\", ParDo.of(new UpperDoFn()));\n",
    "  }\n",
    "} // End of Upper\n",
    "\n",
    "\n",
    "var pipeline = Pipeline.create(options);\n",
    "pipeline\n",
    "  .apply(\"Create elements\", Create.of(Arrays.asList(\"Hello!\", \"World!\")))\n",
    "  .apply(\"Combine sum\", Upper.create()) // Use the new transform\n",
    "  .apply(\"Print elements\", ParDo.of(new LoggingDoFn<>()));\n",
    "\n",
    "pipeline.run().waitUntilFinish();"
   ]
  },
  {
   "cell_type": "code",
   "execution_count": null,
   "id": "8d1fa97b",
   "metadata": {},
   "outputs": [],
   "source": []
  }
 ],
 "metadata": {
  "kernelspec": {
   "display_name": "Java",
   "language": "java",
   "name": "java"
  },
  "language_info": {
   "codemirror_mode": "java",
   "file_extension": ".jshell",
   "mimetype": "text/x-java-source",
   "name": "Java",
   "pygments_lexer": "java",
   "version": "11.0.16+8-post-Debian-1deb10u1"
  }
 },
 "nbformat": 4,
 "nbformat_minor": 5
}
