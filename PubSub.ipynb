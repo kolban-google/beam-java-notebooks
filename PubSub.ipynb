{
 "cells": [
  {
   "cell_type": "markdown",
   "id": "ecb7f722",
   "metadata": {},
   "source": [
    "# Apache Beam - PubSub"
   ]
  },
  {
   "cell_type": "markdown",
   "id": "1a283caf",
   "metadata": {},
   "source": [
    "PubSub is Google's cloud based messaging system.  PubSub can be used as a source or sink of data in a Beam pipeline.  In this notebook we will explore some of the PubSub capabilities available in Beam.\n",
    "\n",
    "\n",
    "First, we define the dependencies that we wish to load from the Maven repositories.\n",
    "\n",
    "See also:\n"
   ]
  },
  {
   "cell_type": "markdown",
   "id": "6d6a7cef",
   "metadata": {},
   "source": [
    "Since our notebook is going to use Google Cloud SDK JARS we must include these in our dependencies.  Specifically, we need to include:\n",
    "\n",
    "```\n",
    "<dependency>\n",
    "  <groupId>org.apache.beam</groupId>\n",
    "  <artifactId>beam-sdks-java-io-google-cloud-platform</artifactId>\n",
    "  <version>2.43.0</version>\n",
    "</dependency>\n",
    "```\n",
    "\n",
    "Normally we would load our dependencies using the IJava Jupyter cell magic called `%%loadFromPom`.  Unfortunately, this doesn't work ([issue](https://github.com/SpencerPark/IJava/issues/139)).  A workaround is to download the dependencies outside of Jupyter and then launch Jupyter with the downloaded dependencies in the classpath.\n",
    "\n",
    "```\n",
    "mvn dependency:copy-dependencies\n",
    "export IJAVA_CLASSPATH=\"./target/dependency/*\"\n",
    "jupyter notebook\n",
    "\n",
    "```\n",
    "\n",
    "See also:\n",
    "* [JavaDoc: PubsubIO](https://beam.apache.org/releases/javadoc/2.43.0/org/apache/beam/sdk/io/gcp/pubsub/PubsubIO.html)\n",
    "* [PubSub to BigQuery: How to Build a Data Pipeline Using Dataflow, Apache Beam, and Java](https://www.datobra.com/posts/pubsub_to_bigquery_dataflow_pipeline/)"
   ]
  },
  {
   "cell_type": "markdown",
   "id": "6211db4d",
   "metadata": {},
   "source": [
    "Next we define our imports required for execution."
   ]
  },
  {
   "cell_type": "code",
   "execution_count": 1,
   "id": "6a00821d",
   "metadata": {},
   "outputs": [],
   "source": [
    "import java.util.Arrays;\n",
    "import java.util.List;\n",
    "\n",
    "import org.apache.beam.sdk.Pipeline;\n",
    "import org.apache.beam.sdk.options.Default;\n",
    "import org.apache.beam.sdk.options.Description;\n",
    "import org.apache.beam.sdk.options.PipelineOptionsFactory;\n",
    "import org.apache.beam.sdk.options.PipelineOptions;\n",
    "import org.apache.beam.sdk.options.StreamingOptions;\n",
    "import org.apache.beam.sdk.transforms.Create;\n",
    "import org.apache.beam.sdk.values.PCollection;\n",
    "import org.apache.beam.sdk.transforms.DoFn;\n",
    "import org.apache.beam.sdk.transforms.ParDo;\n",
    "import org.apache.beam.sdk.coders.KvCoder;\n",
    "import org.apache.beam.sdk.coders.StringUtf8Coder;\n",
    "import org.apache.beam.sdk.values.KV;\n",
    "import org.apache.beam.sdk.transforms.Sample;\n",
    "import org.apache.beam.sdk.transforms.SerializableFunction;\n",
    "import org.apache.beam.sdk.transforms.MapElements;\n",
    "import org.apache.beam.sdk.values.TypeDescriptor;\n",
    "import org.apache.beam.sdk.io.gcp.pubsub.PubsubIO;\n",
    "import org.apache.beam.sdk.io.gcp.pubsub.PubsubMessage;\n",
    "import org.apache.beam.sdk.PipelineResult;\n",
    "import org.apache.beam.sdk.transforms.windowing.PaneInfo;\n",
    "import org.apache.beam.runners.direct.DirectOptions;\n",
    "import org.joda.time.Instant;\n",
    "\n",
    "String args[] = new String[] {\"--tempLocation=gs://kolban-tmp\"};\n",
    "var options = PipelineOptionsFactory.fromArgs(args).withValidation().create();\n",
    "\n",
    "// Disable block on run for direct runner\n",
    "options.as(DirectOptions.class).setBlockOnRun(false);"
   ]
  },
  {
   "cell_type": "markdown",
   "id": "ad43a0b9",
   "metadata": {},
   "source": [
    "## Reading from a subscription\n",
    "We will start with the simplest story ... reading from a PubSub subscription.  PubSubIO provides a few pipeline starters which read from a subsription and produce PCollections of the messages received.  We have:\n",
    "\n",
    "* PubSubIO.readStrings() - Return strings\n",
    "* PubSubIO.readProtos()\n",
    "* PubSubIO.readAvros()\n",
    "* PubSubIO.readMessagesWithMessageId()\n",
    "* PubSubIO.readMessagesWithAttributesAndMessageId()\n",
    "* PubSubIO.readMessageswithAttributes()\n",
    "* PubSubIO.readMessages()\n",
    "\n",
    "In the following, we create a pipeline that reads messages from a subscription.  The output is a `PCollection<PubsubMessage>`.\n",
    "\n",
    "See also:\n",
    "* [JavaDoc: PubsubMessage](https://beam.apache.org/releases/javadoc/2.43.0/org/apache/beam/sdk/io/gcp/pubsub/PubsubMessage.html)"
   ]
  },
  {
   "cell_type": "code",
   "execution_count": 2,
   "id": "843fa5f2",
   "metadata": {},
   "outputs": [
    {
     "name": "stdout",
     "output_type": "stream",
     "text": [
      "About to run pipeline\n",
      "Pipeline running\n"
     ]
    },
    {
     "ename": "EvaluationInterruptedException",
     "evalue": "Evaluator was interrupted while executing: 'result.waitUntilFinish(); // We can interrupt this statement and then cancel.'",
     "output_type": "error",
     "traceback": [
      "\u001b[1m\u001b[30m|   \u001b[1m\u001b[30mresult.waitUntilFinish(); // We can interrupt this statement and then cancel.\u001b[0m",
      "\u001b[1m\u001b[31mEvaluation interrupted.\u001b[0m"
     ]
    }
   ],
   "source": [
    "// CHANGE THE FOLLOWING\n",
    "var subscription = \"projects/test1-305123/subscriptions/beam_sub\";\n",
    "\n",
    "//-----------------\n",
    "\n",
    "public static class LogPane {\n",
    "  public static void log(PaneInfo pane) {\n",
    "    System.out.println(\"index: \" + pane.getIndex() + \", nonSpeculativeIndex: \" + pane.getNonSpeculativeIndex() + \", Timing: \"+ pane.getTiming() + \", isFirst: \" + pane.isFirst() + \", isLast: \" + pane.isLast() + \", isUnknown: \" + pane.isUnknown());\n",
    "  }\n",
    "}\n",
    "\n",
    "public class LoggingDoFn extends DoFn<PubsubMessage, PubsubMessage>  {\n",
    "  @ProcessElement\n",
    "  public void processElement(\n",
    "    @Element PubsubMessage element, OutputReceiver<PubsubMessage> out, ProcessContext context)\n",
    "  {\n",
    "    System.out.println(element);\n",
    "    System.out.println(\" Event timestamp:      \" + context.timestamp());\n",
    "    System.out.println(\" Processing timestamp: \" + Instant.now());    \n",
    "    System.out.println(\" Payload: \\\"\" + new String(element.getPayload()) + \"\\\"\");\n",
    "    // LogPane.log(context.pane());\n",
    "    out.output(element);\n",
    "  }\n",
    "}\n",
    "\n",
    "var pipeline = Pipeline.create(options);\n",
    "pipeline\n",
    "  .apply(\"Read subscription\", PubsubIO.readMessages().fromSubscription(subscription))\n",
    "  .apply(\"Print elements\", ParDo.of(new LoggingDoFn()));\n",
    "System.out.println(\"About to run pipeline\");\n",
    "PipelineResult result = pipeline.run();\n",
    "System.out.println(\"Pipeline running\");\n",
    "result.waitUntilFinish(); // We can interrupt this statement and then cancel."
   ]
  },
  {
   "cell_type": "code",
   "execution_count": 3,
   "id": "b0be1a0d",
   "metadata": {},
   "outputs": [
    {
     "name": "stdout",
     "output_type": "stream",
     "text": [
      "2022-12-28T15:16:57.693Z\n"
     ]
    }
   ],
   "source": [
    "// Stop the pipeline\n",
    "result.cancel();\n",
    "System.out.println(Instant.now())"
   ]
  },
  {
   "cell_type": "code",
   "execution_count": 4,
   "id": "bd10a31f",
   "metadata": {},
   "outputs": [
    {
     "data": {
      "text/plain": [
       "org.apache.beam.runners.direct.DirectRunner$DirectPipelineResult@6a337055"
      ]
     },
     "execution_count": 4,
     "metadata": {},
     "output_type": "execute_result"
    }
   ],
   "source": [
    "result"
   ]
  },
  {
   "cell_type": "code",
   "execution_count": null,
   "id": "3680e711",
   "metadata": {},
   "outputs": [],
   "source": []
  }
 ],
 "metadata": {
  "kernelspec": {
   "display_name": "Java",
   "language": "java",
   "name": "java"
  },
  "language_info": {
   "codemirror_mode": "java",
   "file_extension": ".jshell",
   "mimetype": "text/x-java-source",
   "name": "Java",
   "pygments_lexer": "java",
   "version": "11.0.16+8-post-Debian-1deb10u1"
  }
 },
 "nbformat": 4,
 "nbformat_minor": 5
}
