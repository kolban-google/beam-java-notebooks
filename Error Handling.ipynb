{
 "cells": [
  {
   "cell_type": "markdown",
   "id": "1a283caf",
   "metadata": {},
   "source": [
    "# Apache Beam - Error Handling\n",
    "When we write a Beam flow, errors can occur.  We need to handle those errors.  In this notebook we will look at various ways we can handle this."
   ]
  },
  {
   "cell_type": "code",
   "execution_count": 1,
   "id": "38402951",
   "metadata": {},
   "outputs": [],
   "source": [
    "%%loadFromPOM\n",
    "\n",
    "<dependency>\n",
    "  <groupId>org.apache.beam</groupId>\n",
    "  <artifactId>beam-sdks-java-core</artifactId>\n",
    "  <version>2.40.0</version>\n",
    "</dependency>\n",
    "\n",
    "<dependency>\n",
    "  <groupId>org.apache.beam</groupId>\n",
    "  <artifactId>beam-runners-direct-java</artifactId>\n",
    "  <version>2.40.0</version>\n",
    "  <scope>runtime</scope>\n",
    "</dependency>\n",
    "\n",
    "<dependency>\n",
    "  <groupId>org.slf4j</groupId>\n",
    "  <artifactId>slf4j-api</artifactId>\n",
    "  <version>2.0.6</version>\n",
    "</dependency>"
   ]
  },
  {
   "cell_type": "markdown",
   "id": "6211db4d",
   "metadata": {},
   "source": [
    "Next we define our imports required for execution."
   ]
  },
  {
   "cell_type": "code",
   "execution_count": 2,
   "id": "6a00821d",
   "metadata": {},
   "outputs": [],
   "source": [
    "import java.util.Arrays;\n",
    "import java.util.List;\n",
    "\n",
    "import org.apache.beam.sdk.Pipeline;\n",
    "import org.apache.beam.sdk.options.Default;\n",
    "import org.apache.beam.sdk.options.Description;\n",
    "import org.apache.beam.sdk.options.PipelineOptionsFactory;\n",
    "import org.apache.beam.sdk.options.PipelineOptions;\n",
    "import org.apache.beam.sdk.options.StreamingOptions;\n",
    "import org.apache.beam.sdk.transforms.Create;\n",
    "import org.apache.beam.sdk.values.PCollection;\n",
    "import org.apache.beam.sdk.transforms.DoFn;\n",
    "import org.apache.beam.sdk.transforms.ParDo;\n",
    "import org.apache.beam.sdk.values.TupleTag;\n",
    "import org.apache.beam.sdk.values.TupleTagList;\n",
    "\n",
    "String args[] = new String[] {};\n",
    "var options = PipelineOptionsFactory.fromArgs(args).withValidation().create();"
   ]
  },
  {
   "cell_type": "markdown",
   "id": "ea3ed5b0",
   "metadata": {},
   "source": [
    "Now we define our DoFn that is going to be executed once per element.  In this example, we simply write the output to the output stream (console)."
   ]
  },
  {
   "cell_type": "code",
   "execution_count": 3,
   "id": "09e88661",
   "metadata": {},
   "outputs": [],
   "source": [
    "public class Person implements Serializable {\n",
    "  private String name;\n",
    "  private int age;\n",
    "  \n",
    "  public Person(String name, int age) {\n",
    "    this.name = name;\n",
    "    this.age = age;\n",
    "  }\n",
    "  public String getName() {\n",
    "    return name;\n",
    "  }\n",
    "  public int getAge() {\n",
    "    return age;\n",
    "  }\n",
    "  \n",
    "  public String toString() {\n",
    "    return \"Name: \" + name + \", Age: \" + age;\n",
    "  }\n",
    "} // End of Person\n",
    "\n",
    "public class PersonToUpperDoFn extends DoFn<Person, Person>  {\n",
    "  @ProcessElement\n",
    "  public void processElement(@Element Person person, OutputReceiver<Person> out) {\n",
    "    out.output(new Person(person.getName().toUpperCase(), person.getAge()));\n",
    "  }\n",
    "} // End of PersonToUpperDoFn"
   ]
  },
  {
   "cell_type": "markdown",
   "id": "ad43a0b9",
   "metadata": {},
   "source": [
    "Finally, we run the pipeline and see the output:"
   ]
  },
  {
   "cell_type": "code",
   "execution_count": 4,
   "id": "843fa5f2",
   "metadata": {},
   "outputs": [
    {
     "name": "stdout",
     "output_type": "stream",
     "text": [
      "Name: JOHN, Age: 99\n",
      "Name: NEIL, Age: 41\n"
     ]
    },
    {
     "data": {
      "text/plain": [
       "DONE"
      ]
     },
     "execution_count": 4,
     "metadata": {},
     "output_type": "execute_result"
    }
   ],
   "source": [
    "public class LoggingDoFn<T> extends DoFn<T, T>  {\n",
    "  @ProcessElement\n",
    "  public void processElement(@Element T element, OutputReceiver<T> out) {\n",
    "    System.out.println(element);\n",
    "    out.output(element);\n",
    "  }\n",
    "} // End of LoggingDoFn\n",
    "\n",
    "var pipeline = Pipeline.create(options);\n",
    "pipeline\n",
    "  .apply(\"Create elements\", Create.of(\n",
    "    new Person(\"Neil\", 41),\n",
    "    new Person(\"John\", 99)\n",
    "  ))\n",
    "  .apply(\"Calculate Fractions\",ParDo.of(new PersonToUpperDoFn()))\n",
    "  .apply(\"Print elements\",ParDo.of(new LoggingDoFn<>()));\n",
    "pipeline.run().waitUntilFinish();"
   ]
  },
  {
   "cell_type": "markdown",
   "id": "c8905fa3",
   "metadata": {},
   "source": [
    "Now let's run it again ... but this time it will fail.  Can you see why?\n",
    "\n",
    "If we look, we are creating a `Person` using the parameters of `null` and `22`.  We have supplied a `null` value for the person's name and in the `PersonToUpperDoFn`, we are invoking `toUpperCase()` on the string value of the name.  We can't invoke methods on a `null` object or we will get a `NullPointerException`."
   ]
  },
  {
   "cell_type": "code",
   "execution_count": 5,
   "id": "074b0847",
   "metadata": {},
   "outputs": [
    {
     "ename": "EvalException",
     "evalue": "java.lang.NullPointerException",
     "output_type": "error",
     "traceback": [
      "\u001b[1m\u001b[31m---------------------------------------------------------------------------\u001b[0m",
      "\u001b[1m\u001b[31morg.apache.beam.sdk.Pipeline$PipelineExecutionException: java.lang.NullPointerException\u001b[0m",
      "\u001b[1m\u001b[31m\tat org.apache.beam.runners.direct.DirectRunner$DirectPipelineResult.waitUntilFinish(DirectRunner.java:374)\u001b[0m",
      "\u001b[1m\u001b[31m\tat org.apache.beam.runners.direct.DirectRunner$DirectPipelineResult.waitUntilFinish(DirectRunner.java:342)\u001b[0m",
      "\u001b[1m\u001b[31m\tat org.apache.beam.runners.direct.DirectRunner.run(DirectRunner.java:218)\u001b[0m",
      "\u001b[1m\u001b[31m\tat org.apache.beam.runners.direct.DirectRunner.run(DirectRunner.java:67)\u001b[0m",
      "\u001b[1m\u001b[31m\tat org.apache.beam.sdk.Pipeline.run(Pipeline.java:323)\u001b[0m",
      "\u001b[1m\u001b[31m\tat org.apache.beam.sdk.Pipeline.run(Pipeline.java:309)\u001b[0m",
      "\u001b[1m\u001b[31m\tat .(#38:1)\u001b[0m"
     ]
    }
   ],
   "source": [
    "var pipeline = Pipeline.create(options);\n",
    "pipeline\n",
    "  .apply(\"Create elements\", Create.of(\n",
    "    new Person(\"Neil\", 41),\n",
    "    new Person(null, 22),\n",
    "    new Person(\"John\", 99)\n",
    "  ))\n",
    "  .apply(\"Calculate Upper of Names\",ParDo.of(new PersonToUpperDoFn()))\n",
    "  .apply(\"Print elements\",ParDo.of(new LoggingDoFn<>()));\n",
    "pipeline.run().waitUntilFinish();"
   ]
  },
  {
   "cell_type": "markdown",
   "id": "3f345bdc",
   "metadata": {},
   "source": [
    "One solution is to catch the error (exception).  Once caught, we *could* silently ignore it but that obviously isn't good.  Instead, what we will do is catch the error and return as part of the pipeline.  This now implies that when we execute a PTransform that could fail, we now have two outputs ... one output is the PCollection of \"good\" results and a second output (again a PCollection) of caught errors.  This error PCollection can be sent to a *dead letter queue* or some other persistent storage for subsequent correction."
   ]
  },
  {
   "cell_type": "code",
   "execution_count": 6,
   "id": "f605a428",
   "metadata": {},
   "outputs": [
    {
     "name": "stdout",
     "output_type": "stream",
     "text": [
      "Name: NEIL, Age: 41\n",
      "Name: JOHN, Age: 99\n",
      "Error: java.lang.NullPointerException, element: Name: null, Age: 22\n"
     ]
    },
    {
     "data": {
      "text/plain": [
       "DONE"
      ]
     },
     "execution_count": 6,
     "metadata": {},
     "output_type": "execute_result"
    }
   ],
   "source": [
    "public class Error implements Serializable {\n",
    "  private Object element;\n",
    "  private Exception ex;\n",
    "  \n",
    "  public Error(Object element, Exception ex) {\n",
    "    this.element = element;\n",
    "    this.ex = ex;\n",
    "  }\n",
    "  \n",
    "  public String toString() {\n",
    "    return \"Error: \" + ex.toString() + \", element: \" + element;\n",
    "  }\n",
    "} // End of Error\n",
    "\n",
    "public class PersonToUpperDoFn extends DoFn<Person, Person>  {\n",
    "  public final static TupleTag<Person> normalTag = new TupleTag<Person>(){};\n",
    "  public final static TupleTag<Error> errorTag = new TupleTag<Error>(){};  \n",
    "  @ProcessElement\n",
    "  public void processElement(@Element Person person, MultiOutputReceiver outputReceivers) {\n",
    "    try {\n",
    "      outputReceivers.get(normalTag).output(new Person(person.getName().toUpperCase(), person.getAge()));\n",
    "    }\n",
    "    catch(Exception e) {\n",
    "      //e.printStackTrace();\n",
    "      outputReceivers.get(errorTag).output(new Error(person, e));\n",
    "    }   \n",
    "  } // End of processElement\n",
    "} // End of PersonToUpperDoFn\n",
    "\n",
    "var pipeline = Pipeline.create(options);\n",
    "var multi = pipeline\n",
    "  .apply(\"Create elements\", Create.of(\n",
    "    new Person(\"Neil\", 41),\n",
    "    new Person(null, 22),\n",
    "    new Person(\"John\", 99)\n",
    "  ))\n",
    "  .apply(\"Calculate Upper of Names\",ParDo.of(new PersonToUpperDoFn())\n",
    "    .withOutputTags(PersonToUpperDoFn.normalTag, TupleTagList.of(PersonToUpperDoFn.errorTag)));\n",
    "\n",
    "// Handle the normal (non error) output of the data\n",
    "multi.get(PersonToUpperDoFn.normalTag)\n",
    "  .apply(\"Print elements\",ParDo.of(new LoggingDoFn<>()));\n",
    "\n",
    "// Here we do error handling ...\n",
    "multi.get(PersonToUpperDoFn.errorTag)\n",
    "  .apply(\"Print elements\",ParDo.of(new LoggingDoFn<>()));  \n",
    "\n",
    "pipeline.run().waitUntilFinish();"
   ]
  },
  {
   "cell_type": "code",
   "execution_count": null,
   "id": "db60481a",
   "metadata": {},
   "outputs": [],
   "source": []
  }
 ],
 "metadata": {
  "kernelspec": {
   "display_name": "Java",
   "language": "java",
   "name": "java"
  },
  "language_info": {
   "codemirror_mode": "java",
   "file_extension": ".jshell",
   "mimetype": "text/x-java-source",
   "name": "Java",
   "pygments_lexer": "java",
   "version": "11.0.16+8-post-Debian-1deb10u1"
  }
 },
 "nbformat": 4,
 "nbformat_minor": 5
}
