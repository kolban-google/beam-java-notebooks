{
 "cells": [
  {
   "cell_type": "markdown",
   "id": "ecb7f722",
   "metadata": {},
   "source": [
    "# Apache Beam - Combine"
   ]
  },
  {
   "cell_type": "markdown",
   "id": "1a283caf",
   "metadata": {},
   "source": [
    "At the highest level, the Combine transform takes the values in a PCollection and *combines* them together to produce a single value.  Some common examples:\n",
    "\n",
    "* Summation - Imagine a PCollection of \\[1,2,3,4\\], if we were to sum the values we would end up with 1+2+3+4 = 10.\n",
    "* Average - Imagine a PCollection of \\[1,2,3,4\\], if we were to average the values we would end up with (1+2+3+4)/4 = 2.5.\n",
    "\n",
    "Generically, we are looking for some function that can combine the elements in a PCollection.   If we were in a simple programming language on a single machine, we might be tempted to code:\n",
    "\n",
    "```\n",
    "let sum = 0\n",
    "for each element in PCollection\n",
    "  sum = sum + element\n",
    "return sum\n",
    "```\n",
    "\n",
    "However, this is beam and we may be processing millions of elememts.  We want to take advantage of parallelism.  Beam provides a concept called the CombineFn.  The CombineFn requries that we implement four methods:\n",
    "\n",
    "* `public <Accum> createAccumulator()`\n",
    "* `public <Accum> addInput(<Accum>, <Value>)`\n",
    "* `public <Accum> mergeAccumulators(Iterable<Accum>)`\n",
    "* `public <Result> extractOutput(<Accum>)`\n",
    "\n",
    "This works only if the combination we are applying is associative and commutable.  Associative means that `function(function(a,b), c) === function(a, function(b,c))` and commutative means that `function(a,b) === function(b,a)`\n",
    "\n",
    "We can see that addition conforms:\n",
    "\n",
    "`(1+2)+3 = 1+(2+3)`\n",
    "\n",
    "and\n",
    "\n",
    "`1+2 = 2+1`\n",
    "\n",
    "however subtraction is not:\n",
    "\n",
    "`1-2 <> 2-1`\n",
    "\n",
    "When we wish to combine a PCollection, we have some variants:\n",
    "\n",
    "* Combine Globally - Combine **all** the elements in a PCollection\n",
    "* Combine Per Key - Combine all the elements associated with a key for each key\n",
    "* Combine Values - ???\n",
    "\n",
    "\n",
    "* [JavaDoc: Class Combine](https://beam.apache.org/releases/javadoc/2.42.0/org/apache/beam/sdk/transforms/Combine.html)\n",
    "* [JavaDoc: Class Combine.CombineFn](https://beam.apache.org/releases/javadoc/2.42.0/org/apache/beam/sdk/transforms/Combine.CombineFn.html)\n",
    "* [Combine](https://beam.apache.org/documentation/transforms/java/aggregation/combine/)\n",
    "\n",
    "\n",
    "\n",
    "First, we define the dependencies that we wish to load from the Maven repositories."
   ]
  },
  {
   "cell_type": "code",
   "execution_count": 1,
   "id": "38402951",
   "metadata": {},
   "outputs": [],
   "source": [
    "%%loadFromPOM\n",
    "\n",
    "<dependency>\n",
    "  <groupId>org.apache.beam</groupId>\n",
    "  <artifactId>beam-sdks-java-core</artifactId>\n",
    "  <version>2.40.0</version>\n",
    "</dependency>\n",
    "\n",
    "<dependency>\n",
    "  <groupId>org.apache.beam</groupId>\n",
    "  <artifactId>beam-runners-direct-java</artifactId>\n",
    "  <version>2.40.0</version>\n",
    "  <scope>runtime</scope>\n",
    "</dependency>\n",
    "\n",
    "<dependency>\n",
    "  <groupId>org.slf4j</groupId>\n",
    "  <artifactId>slf4j-api</artifactId>\n",
    "  <version>2.0.6</version>\n",
    "</dependency>"
   ]
  },
  {
   "cell_type": "markdown",
   "id": "6211db4d",
   "metadata": {},
   "source": [
    "Next we define our imports required for execution."
   ]
  },
  {
   "cell_type": "code",
   "execution_count": 2,
   "id": "6a00821d",
   "metadata": {},
   "outputs": [],
   "source": [
    "import java.util.Arrays;\n",
    "import java.util.List;\n",
    "\n",
    "import org.apache.beam.sdk.Pipeline;\n",
    "import org.apache.beam.sdk.options.Default;\n",
    "import org.apache.beam.sdk.options.Description;\n",
    "import org.apache.beam.sdk.options.PipelineOptionsFactory;\n",
    "import org.apache.beam.sdk.options.PipelineOptions;\n",
    "import org.apache.beam.sdk.options.StreamingOptions;\n",
    "import org.apache.beam.sdk.transforms.Create;\n",
    "import org.apache.beam.sdk.transforms.GroupByKey;\n",
    "import org.apache.beam.sdk.values.PCollection;\n",
    "import org.apache.beam.sdk.transforms.DoFn;\n",
    "import org.apache.beam.sdk.transforms.ParDo;\n",
    "import org.apache.beam.sdk.coders.KvCoder;\n",
    "import org.apache.beam.sdk.coders.StringUtf8Coder;\n",
    "import org.apache.beam.sdk.values.KV;\n",
    "import org.apache.beam.sdk.values.PDone;\n",
    "import org.apache.beam.sdk.values.TupleTag;\n",
    "import org.apache.beam.sdk.transforms.join.CoGbkResult;\n",
    "import org.apache.beam.sdk.transforms.join.KeyedPCollectionTuple;\n",
    "import org.apache.beam.sdk.transforms.join.CoGroupByKey;\n",
    "import org.apache.beam.sdk.transforms.Combine.CombineFn;\n",
    "import org.apache.beam.sdk.transforms.Combine;\n",
    "import org.apache.beam.sdk.transforms.SerializableFunction;\n",
    "import org.apache.beam.sdk.transforms.Sum;\n",
    "import org.apache.beam.sdk.transforms.Count;\n",
    "import org.apache.beam.sdk.transforms.Distinct;\n",
    "import org.apache.beam.sdk.transforms.Filter;\n",
    "\n",
    "String args[] = new String[] {};\n",
    "var options = PipelineOptionsFactory.fromArgs(args).withValidation().create();"
   ]
  },
  {
   "cell_type": "markdown",
   "id": "b7108954",
   "metadata": {},
   "source": [
    "Here is a full Combine example that performs a summation.  The sum of 3, 4 and 5 is 12."
   ]
  },
  {
   "cell_type": "code",
   "execution_count": 12,
   "id": "1b53365e",
   "metadata": {},
   "outputs": [
    {
     "name": "stdout",
     "output_type": "stream",
     "text": [
      "12\n"
     ]
    },
    {
     "data": {
      "text/plain": [
       "DONE"
      ]
     },
     "execution_count": 12,
     "metadata": {},
     "output_type": "execute_result"
    }
   ],
   "source": [
    "public class LoggingDoFn<T> extends DoFn<T, T>  {\n",
    "  @ProcessElement\n",
    "  public void processElement(\n",
    "    @Element T element,\n",
    "    OutputReceiver<T> out) {\n",
    "    System.out.println(element);\n",
    "    out.output(element);\n",
    "  }\n",
    "}\n",
    "\n",
    "// Simple CombineFn implementation that performs a summation of the input\n",
    "// PCollection elements.\n",
    "public class SumFn extends CombineFn<Integer, Integer, Integer> {\n",
    "  public Integer createAccumulator() {\n",
    "    return 0;\n",
    "  }\n",
    "    \n",
    "  public Integer addInput(Integer accum, Integer input) {\n",
    "    accum = accum + input;\n",
    "    return accum;\n",
    "  }\n",
    "    \n",
    "  public Integer mergeAccumulators(Iterable<Integer> accums) {\n",
    "    Integer total;\n",
    "    total = 0;\n",
    "    for (Integer i: accums) {\n",
    "      total = total + i;\n",
    "    }\n",
    "    return total;\n",
    "  }\n",
    "    \n",
    "  public Integer extractOutput(Integer accum) {\n",
    "    return accum;\n",
    "  }\n",
    "} // End of SumFn\n",
    "\n",
    "var pipeline = Pipeline.create(options);\n",
    "pipeline\n",
    "  .apply(\"Create elements\", Create.of(3,4,5))\n",
    "  .apply(\"Combine sum\", Combine.globally(new SumFn()))\n",
    "  .apply(\"Print elements\", ParDo.of(new LoggingDoFn()));\n",
    "\n",
    "pipeline.run().waitUntilFinish();"
   ]
  },
  {
   "cell_type": "markdown",
   "id": "e29f8620",
   "metadata": {},
   "source": [
    "For certain classes of Combine functions, we can get away with a simpler story by using the [SerializableFunction](https://beam.apache.org/releases/javadoc/2.42.0/org/apache/beam/sdk/transforms/SerializableFunction.html) capability.  This allows us to receive a bundle of elements and perform a simple combination on that bundle and return the combination of just those bundle items.  As long as they can be simply combined, this will work."
   ]
  },
  {
   "cell_type": "code",
   "execution_count": 4,
   "id": "234acaa2",
   "metadata": {},
   "outputs": [
    {
     "name": "stdout",
     "output_type": "stream",
     "text": [
      "12\n"
     ]
    },
    {
     "data": {
      "text/plain": [
       "DONE"
      ]
     },
     "execution_count": 4,
     "metadata": {},
     "output_type": "execute_result"
    }
   ],
   "source": [
    "public class SumFn2 implements SerializableFunction<Iterable<Integer>, Integer> {\n",
    "  @Override\n",
    "  public Integer apply(Iterable<Integer> input) {\n",
    "    int sum = 0;\n",
    "    for (int item : input) {\n",
    "      sum += item;\n",
    "    }\n",
    "    return sum;\n",
    "  }\n",
    "} // End of SumFn2\n",
    "\n",
    "var pipeline = Pipeline.create(options);\n",
    "pipeline\n",
    "  .apply(\"Create elements\", Create.of(3,4,5))\n",
    "  .apply(\"Combine sum\", Combine.globally(new SumFn2()))\n",
    "  .apply(\"Print elements\", ParDo.of(new LoggingDoFn()));\n",
    "\n",
    "pipeline.run().waitUntilFinish();"
   ]
  },
  {
   "cell_type": "markdown",
   "id": "c465d314",
   "metadata": {},
   "source": [
    "Beam provides some pre-built combiners including min, max and sum."
   ]
  },
  {
   "cell_type": "code",
   "execution_count": 5,
   "id": "3b2979ac",
   "metadata": {},
   "outputs": [
    {
     "name": "stdout",
     "output_type": "stream",
     "text": [
      "12\n"
     ]
    },
    {
     "data": {
      "text/plain": [
       "DONE"
      ]
     },
     "execution_count": 5,
     "metadata": {},
     "output_type": "execute_result"
    }
   ],
   "source": [
    "var pipeline = Pipeline.create(options);\n",
    "pipeline\n",
    "  .apply(\"Create elements\", Create.of(3,4,5))\n",
    "  .apply(\"Combine sum\", Combine.globally(Sum.ofIntegers()))\n",
    "  .apply(\"Print elements\", ParDo.of(new LoggingDoFn()));\n",
    "\n",
    "pipeline.run().waitUntilFinish();"
   ]
  },
  {
   "cell_type": "markdown",
   "id": "d27ad689",
   "metadata": {},
   "source": [
    "There is an even simpler class called [Sum](https://beam.apache.org/releases/javadoc/2.42.0/org/apache/beam/sdk/transforms/Sum.html) that provides all the functions."
   ]
  },
  {
   "cell_type": "code",
   "execution_count": 6,
   "id": "bf869e37",
   "metadata": {},
   "outputs": [
    {
     "name": "stdout",
     "output_type": "stream",
     "text": [
      "12\n"
     ]
    },
    {
     "data": {
      "text/plain": [
       "DONE"
      ]
     },
     "execution_count": 6,
     "metadata": {},
     "output_type": "execute_result"
    }
   ],
   "source": [
    "var pipeline = Pipeline.create(options);\n",
    "pipeline\n",
    "  .apply(\"Create elements\", Create.of(3,4,5))\n",
    "  .apply(\"Calculate Sum\", Sum.integersGlobally())\n",
    "  .apply(\"Print elements\", ParDo.of(new LoggingDoFn()));\n",
    "\n",
    "pipeline.run().waitUntilFinish();"
   ]
  },
  {
   "cell_type": "markdown",
   "id": "c20efddc",
   "metadata": {},
   "source": [
    "## Count - Counting elements\n",
    "We can count the number of items in a PCollection by using `Count.globally()`."
   ]
  },
  {
   "cell_type": "code",
   "execution_count": 13,
   "id": "f8c3659e",
   "metadata": {},
   "outputs": [
    {
     "name": "stdout",
     "output_type": "stream",
     "text": [
      "3\n"
     ]
    },
    {
     "data": {
      "text/plain": [
       "DONE"
      ]
     },
     "execution_count": 13,
     "metadata": {},
     "output_type": "execute_result"
    }
   ],
   "source": [
    "var pipeline = Pipeline.create(options);\n",
    "pipeline\n",
    "  .apply(\"Create elements\", Create.of(3,4,5))\n",
    "  .apply(\"Calculate count\", Count.globally())\n",
    "  .apply(\"Print elements\", ParDo.of(new LoggingDoFn()));\n",
    "\n",
    "pipeline.run().waitUntilFinish();"
   ]
  },
  {
   "cell_type": "markdown",
   "id": "37ead49b",
   "metadata": {},
   "source": [
    "We can even count the number of elements grouped by the element value by using `Count.perElement()`:"
   ]
  },
  {
   "cell_type": "code",
   "execution_count": 14,
   "id": "3027e8d5",
   "metadata": {},
   "outputs": [
    {
     "name": "stdout",
     "output_type": "stream",
     "text": [
      "KV{4, 2}\n",
      "KV{3, 2}\n",
      "KV{5, 1}\n",
      "KV{8, 1}\n"
     ]
    },
    {
     "data": {
      "text/plain": [
       "DONE"
      ]
     },
     "execution_count": 14,
     "metadata": {},
     "output_type": "execute_result"
    }
   ],
   "source": [
    "var pipeline = Pipeline.create(options);\n",
    "pipeline\n",
    "  .apply(\"Create elements\", Create.of(3,4,5,3,4,8))\n",
    "  .apply(\"Calculate Count per element\", Count.perElement())\n",
    "  .apply(\"Print elements\", ParDo.of(new LoggingDoFn()));\n",
    "\n",
    "pipeline.run().waitUntilFinish();"
   ]
  },
  {
   "cell_type": "markdown",
   "id": "7c0bda37",
   "metadata": {},
   "source": [
    "## Distinct - Unique elements\n",
    "We can find distinct values using `Distinct`.  That transform takes an input PCollection and returns a new PCollection that contains only the distinct elements from the original PCollection."
   ]
  },
  {
   "cell_type": "code",
   "execution_count": 15,
   "id": "cd9bcbe3",
   "metadata": {},
   "outputs": [
    {
     "name": "stdout",
     "output_type": "stream",
     "text": [
      "5\n",
      "4\n",
      "8\n",
      "3\n"
     ]
    },
    {
     "data": {
      "text/plain": [
       "DONE"
      ]
     },
     "execution_count": 15,
     "metadata": {},
     "output_type": "execute_result"
    }
   ],
   "source": [
    "var pipeline = Pipeline.create(options);\n",
    "pipeline\n",
    "  .apply(\"Create elements\", Create.of(3,4,5,3,4,8))\n",
    "  .apply(\"Calculate Distinct\", Distinct.create())\n",
    "  .apply(\"Print elements\", ParDo.of(new LoggingDoFn()));\n",
    "\n",
    "pipeline.run().waitUntilFinish();"
   ]
  },
  {
   "cell_type": "markdown",
   "id": "2ec58a0a",
   "metadata": {},
   "source": [
    "## Filter - Filtering elements\n",
    "We can filter a PCollection by applying a function over each of the elements.  If the function returns true, the element is kept otherwise it is discarded.  We pass the predicate function to the `Filter` PTransform."
   ]
  },
  {
   "cell_type": "code",
   "execution_count": 10,
   "id": "83c622c5",
   "metadata": {},
   "outputs": [
    {
     "name": "stdout",
     "output_type": "stream",
     "text": [
      "6\n",
      "8\n",
      "4\n"
     ]
    },
    {
     "data": {
      "text/plain": [
       "DONE"
      ]
     },
     "execution_count": 10,
     "metadata": {},
     "output_type": "execute_result"
    }
   ],
   "source": [
    "public class FilterFn implements SerializableFunction<Integer, Boolean> {\n",
    "  @Override\n",
    "  public Boolean apply(Integer input) {\n",
    "    if (input % 2 == 0) {\n",
    "      return true;\n",
    "    }\n",
    "    return false;\n",
    "  }\n",
    "}\n",
    "  \n",
    "var pipeline = Pipeline.create(options);\n",
    "pipeline\n",
    "  .apply(\"Create elements\", Create.of(3,4,5,6,7,8))\n",
    "  .apply(\"Calculate Distinct\", Filter.by(new FilterFn()))\n",
    "  .apply(\"Print elements\", ParDo.of(new LoggingDoFn()));\n",
    "\n",
    "pipeline.run().waitUntilFinish();"
   ]
  },
  {
   "cell_type": "code",
   "execution_count": null,
   "id": "fadeff29",
   "metadata": {},
   "outputs": [],
   "source": []
  }
 ],
 "metadata": {
  "kernelspec": {
   "display_name": "Java",
   "language": "java",
   "name": "java"
  },
  "language_info": {
   "codemirror_mode": "java",
   "file_extension": ".jshell",
   "mimetype": "text/x-java-source",
   "name": "Java",
   "pygments_lexer": "java",
   "version": "11.0.16+8-post-Debian-1deb10u1"
  }
 },
 "nbformat": 4,
 "nbformat_minor": 5
}
