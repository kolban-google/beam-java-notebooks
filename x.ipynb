{
 "cells": [
  {
   "cell_type": "markdown",
   "id": "092700b1",
   "metadata": {},
   "source": [
    "# Apache Beam Notebook\n",
    "This notebook uses Apache Beam."
   ]
  },
  {
   "cell_type": "code",
   "execution_count": 7,
   "id": "7153779f",
   "metadata": {},
   "outputs": [
    {
     "ename": "EvalException",
     "evalue": "Exception occurred while running cell magic 'loadFromPOM': Error resolving '/tmp/ijava-ivy-17650765453931490589.xml'. [unresolved dependency: org.apache.beam#beam-runners-google-cloud-dataflow-java;2.40.0: several problems occurred while resolving dependency: org.apache.beam#beam-runners-google-cloud-dataflow-java;2.40.0 {compile=[compile(*), master(*)], runtime=[runtime(*)]}:\n\tseveral problems occurred while resolving dependency: com.google.cloud#libraries-bom;25.2.0 {}:\n\tseveral problems occurred while resolving dependency: com.google.cloud#google-cloud-bom;0.173.0 {}:\n\tseveral problems occurred while resolving dependency: com.google.cloud#google-cloud-bigquerystorage-bom;2.12.2 {}:\n\tcom.google.cloud#google-cloud-shared-config;1.3.2\n\tcom.google.cloud#google-cloud-shared-config;1.3.2\n\tseveral problems occurred while resolving dependency: com.google.cloud#google-cloud-bigquerystorage-bom;2.12.2 {}:\n\tcom.google.cloud#google-cloud-shared-config;1.3.2\n\tcom.google.cloud#google-cloud-shared-config;1.3.2\n\tseveral problems occurred while resolving dependency: com.google.cloud#google-cloud-bom;0.173.0 {}:\n\tseveral problems occurred while resolving dependency: com.google.cloud#google-cloud-bigquerystorage-bom;2.12.2 {}:\n\tcom.google.cloud#google-cloud-shared-config;1.3.2\n\tcom.google.cloud#google-cloud-shared-config;1.3.2\n\tseveral problems occurred while resolving dependency: com.google.cloud#google-cloud-bigquerystorage-bom;2.12.2 {}:\n\tcom.google.cloud#google-cloud-shared-config;1.3.2\n\tcom.google.cloud#google-cloud-shared-config;1.3.2\n\tseveral problems occurred while resolving dependency: com.google.cloud#libraries-bom;25.2.0 {}:\n\tseveral problems occurred while resolving dependency: com.google.cloud#google-cloud-bom;0.173.0 {}:\n\tseveral problems occurred while resolving dependency: com.google.cloud#google-cloud-bigqueryreservation-bom;2.2.7 {}:\n\tcom.google.cloud#google-cloud-shared-config;1.3.2->com.google.cloud#google-cloud-shared-config;1.3.3\n\tcom.google.cloud#google-cloud-shared-config;1.3.2->com.google.cloud#google-cloud-shared-config;1.3.3\n\tseveral problems occurred while resolving dependency: com.google.cloud#google-cloud-bigqueryreservation-bom;2.2.7 {}:\n\tcom.google.cloud#google-cloud-shared-config;1.3.2->com.google.cloud#google-cloud-shared-config;1.3.3\n\tcom.google.cloud#google-cloud-shared-config;1.3.2->com.google.cloud#google-cloud-shared-config;1.3.3\n\tseveral problems occurred while resolving dependency: com.google.cloud#google-cloud-bom;0.173.0 {}:\n\tseveral problems occurred while resolving dependency: com.google.cloud#google-cloud-bigqueryreservation-bom;2.2.7 {}:\n\tcom.google.cloud#google-cloud-shared-config;1.3.2->com.google.cloud#google-cloud-shared-config;1.3.3\n\tcom.google.cloud#google-cloud-shared-config;1.3.2->com.google.cloud#google-cloud-shared-config;1.3.3\n\tseveral problems occurred while resolving dependency: com.google.cloud#google-cloud-bigqueryreservation-bom;2.2.7 {}:\n\tcom.google.cloud#google-cloud-shared-config;1.3.2->com.google.cloud#google-cloud-shared-config;1.3.3\n\tcom.google.cloud#google-cloud-shared-config;1.3.2->com.google.cloud#google-cloud-shared-config;1.3.3]",
     "output_type": "error",
     "traceback": [
      "\u001b[1m\u001b[31m---------------------------------------------------------------------------\u001b[0m",
      "\u001b[1m\u001b[31mjava.lang.RuntimeException: Exception occurred while running cell magic 'loadFromPOM': Error resolving '/tmp/ijava-ivy-17650765453931490589.xml'. [unresolved dependency: org.apache.beam#beam-runners-google-cloud-dataflow-java;2.40.0: several problems occurred while resolving dependency: org.apache.beam#beam-runners-google-cloud-dataflow-java;2.40.0 {compile=[compile(*), master(*)], runtime=[runtime(*)]}:\u001b[0m",
      "\u001b[1m\u001b[31m\tseveral problems occurred while resolving dependency: com.google.cloud#libraries-bom;25.2.0 {}:\u001b[0m",
      "\u001b[1m\u001b[31m\tseveral problems occurred while resolving dependency: com.google.cloud#google-cloud-bom;0.173.0 {}:\u001b[0m",
      "\u001b[1m\u001b[31m\tseveral problems occurred while resolving dependency: com.google.cloud#google-cloud-bigquerystorage-bom;2.12.2 {}:\u001b[0m",
      "\u001b[1m\u001b[31m\tcom.google.cloud#google-cloud-shared-config;1.3.2\u001b[0m",
      "\u001b[1m\u001b[31m\tcom.google.cloud#google-cloud-shared-config;1.3.2\u001b[0m",
      "\u001b[1m\u001b[31m\tseveral problems occurred while resolving dependency: com.google.cloud#google-cloud-bigquerystorage-bom;2.12.2 {}:\u001b[0m",
      "\u001b[1m\u001b[31m\tcom.google.cloud#google-cloud-shared-config;1.3.2\u001b[0m",
      "\u001b[1m\u001b[31m\tcom.google.cloud#google-cloud-shared-config;1.3.2\u001b[0m",
      "\u001b[1m\u001b[31m\tseveral problems occurred while resolving dependency: com.google.cloud#google-cloud-bom;0.173.0 {}:\u001b[0m",
      "\u001b[1m\u001b[31m\tseveral problems occurred while resolving dependency: com.google.cloud#google-cloud-bigquerystorage-bom;2.12.2 {}:\u001b[0m",
      "\u001b[1m\u001b[31m\tcom.google.cloud#google-cloud-shared-config;1.3.2\u001b[0m",
      "\u001b[1m\u001b[31m\tcom.google.cloud#google-cloud-shared-config;1.3.2\u001b[0m",
      "\u001b[1m\u001b[31m\tseveral problems occurred while resolving dependency: com.google.cloud#google-cloud-bigquerystorage-bom;2.12.2 {}:\u001b[0m",
      "\u001b[1m\u001b[31m\tcom.google.cloud#google-cloud-shared-config;1.3.2\u001b[0m",
      "\u001b[1m\u001b[31m\tcom.google.cloud#google-cloud-shared-config;1.3.2\u001b[0m",
      "\u001b[1m\u001b[31m\tseveral problems occurred while resolving dependency: com.google.cloud#libraries-bom;25.2.0 {}:\u001b[0m",
      "\u001b[1m\u001b[31m\tseveral problems occurred while resolving dependency: com.google.cloud#google-cloud-bom;0.173.0 {}:\u001b[0m",
      "\u001b[1m\u001b[31m\tseveral problems occurred while resolving dependency: com.google.cloud#google-cloud-bigqueryreservation-bom;2.2.7 {}:\u001b[0m",
      "\u001b[1m\u001b[31m\tcom.google.cloud#google-cloud-shared-config;1.3.2->com.google.cloud#google-cloud-shared-config;1.3.3\u001b[0m",
      "\u001b[1m\u001b[31m\tcom.google.cloud#google-cloud-shared-config;1.3.2->com.google.cloud#google-cloud-shared-config;1.3.3\u001b[0m",
      "\u001b[1m\u001b[31m\tseveral problems occurred while resolving dependency: com.google.cloud#google-cloud-bigqueryreservation-bom;2.2.7 {}:\u001b[0m",
      "\u001b[1m\u001b[31m\tcom.google.cloud#google-cloud-shared-config;1.3.2->com.google.cloud#google-cloud-shared-config;1.3.3\u001b[0m",
      "\u001b[1m\u001b[31m\tcom.google.cloud#google-cloud-shared-config;1.3.2->com.google.cloud#google-cloud-shared-config;1.3.3\u001b[0m",
      "\u001b[1m\u001b[31m\tseveral problems occurred while resolving dependency: com.google.cloud#google-cloud-bom;0.173.0 {}:\u001b[0m",
      "\u001b[1m\u001b[31m\tseveral problems occurred while resolving dependency: com.google.cloud#google-cloud-bigqueryreservation-bom;2.2.7 {}:\u001b[0m",
      "\u001b[1m\u001b[31m\tcom.google.cloud#google-cloud-shared-config;1.3.2->com.google.cloud#google-cloud-shared-config;1.3.3\u001b[0m",
      "\u001b[1m\u001b[31m\tcom.google.cloud#google-cloud-shared-config;1.3.2->com.google.cloud#google-cloud-shared-config;1.3.3\u001b[0m",
      "\u001b[1m\u001b[31m\tseveral problems occurred while resolving dependency: com.google.cloud#google-cloud-bigqueryreservation-bom;2.2.7 {}:\u001b[0m",
      "\u001b[1m\u001b[31m\tcom.google.cloud#google-cloud-shared-config;1.3.2->com.google.cloud#google-cloud-shared-config;1.3.3\u001b[0m",
      "\u001b[1m\u001b[31m\tcom.google.cloud#google-cloud-shared-config;1.3.2->com.google.cloud#google-cloud-shared-config;1.3.3]\u001b[0m",
      "\u001b[1m\u001b[31m\tat io.github.spencerpark.ijava.runtime.Magics.cellMagic(Magics.java:35)\u001b[0m",
      "\u001b[1m\u001b[31m\tat .(#21:1)\u001b[0m"
     ]
    }
   ],
   "source": [
    "%%loadFromPOM\n",
    "\n",
    "<repository>\n",
    "  <id>x1</id>\n",
    "  <url>https://mvnrepository.com/artifact/com.google.cloud/libraries-bom</url>\n",
    "</repository>\n",
    "\n",
    "  \n",
    "<dependency>\n",
    "  <groupId>org.apache.beam</groupId>\n",
    "  <artifactId>beam-sdks-java-core</artifactId>\n",
    "  <version>2.40.0</version>\n",
    "</dependency>\n",
    "\n",
    "<dependency>\n",
    "  <groupId>org.apache.beam</groupId>\n",
    "  <artifactId>beam-runners-direct-java</artifactId>\n",
    "  <version>2.40.0</version>\n",
    "  <scope>runtime</scope>\n",
    "</dependency>\n",
    "\n",
    "<dependency>\n",
    "    <groupId>org.slf4j</groupId>\n",
    "    <artifactId>slf4j-api</artifactId>\n",
    "    <version>2.0.6</version>\n",
    "</dependency>\n",
    "\n",
    "<dependency>\n",
    "    <groupId>org.slf4j</groupId>\n",
    "    <artifactId>slf4j-simple</artifactId>\n",
    "    <version>2.0.6</version>\n",
    "    <scope>test</scope>\n",
    "</dependency>\n"
   ]
  },
  {
   "cell_type": "code",
   "execution_count": 1,
   "id": "55e27434",
   "metadata": {},
   "outputs": [],
   "source": [
    "import java.util.Arrays;\n",
    "import java.util.List;\n",
    "\n",
    "import org.apache.beam.sdk.Pipeline;\n",
    "import org.apache.beam.sdk.coders.StringUtf8Coder;\n",
    "import org.apache.beam.sdk.options.Default;\n",
    "import org.apache.beam.sdk.options.Description;\n",
    "import org.apache.beam.sdk.options.PipelineOptionsFactory;\n",
    "import org.apache.beam.sdk.options.StreamingOptions;\n",
    "import org.apache.beam.sdk.transforms.Create;\n",
    "import org.apache.beam.sdk.transforms.MapElements;\n",
    "import org.apache.beam.sdk.values.PCollection;\n",
    "import org.apache.beam.sdk.values.TypeDescriptors;"
   ]
  },
  {
   "cell_type": "code",
   "execution_count": 2,
   "id": "abc9991b",
   "metadata": {},
   "outputs": [],
   "source": [
    "public interface Options extends StreamingOptions {\n",
    "  @Description(\"Input text to print.\")\n",
    "  @Default.String(\"My input text\")\n",
    "  String getInputText();\n",
    "\n",
    "  void setInputText(String value);\n",
    "}"
   ]
  },
  {
   "cell_type": "code",
   "execution_count": 6,
   "id": "ba5797c4",
   "metadata": {},
   "outputs": [],
   "source": [
    "public static PCollection<String> buildPipeline(Pipeline pipeline, String inputText) {\n",
    "  return pipeline\n",
    "    .apply(\"Create elements\", Create.of(Arrays.asList(\"Hello!\", \"World!\", \"X\", inputText)))\n",
    "    .apply(\"Print elements\",\n",
    "      MapElements.into(TypeDescriptors.strings()).via(x -> {\n",
    "        System.out.println(x);\n",
    "        return x;\n",
    "      }\n",
    "    )\n",
    "  );\n",
    "}"
   ]
  },
  {
   "cell_type": "code",
   "execution_count": 7,
   "id": "f35ce1b0",
   "metadata": {},
   "outputs": [
    {
     "name": "stdout",
     "output_type": "stream",
     "text": [
      "Hello!\n",
      "World!\n",
      "XXX YYY\n",
      "X\n"
     ]
    },
    {
     "data": {
      "text/plain": [
       "DONE"
      ]
     },
     "execution_count": 7,
     "metadata": {},
     "output_type": "execute_result"
    }
   ],
   "source": [
    "String args[] = new String[] {\"--inputText=XXX YYY\"};\n",
    "\n",
    "var options = PipelineOptionsFactory.fromArgs(args).withValidation().as(Options.class);\n",
    "var pipeline = Pipeline.create(options);\n",
    "buildPipeline(pipeline, options.getInputText());\n",
    "pipeline.run().waitUntilFinish();"
   ]
  },
  {
   "cell_type": "code",
   "execution_count": 5,
   "id": "dd9b0e3b",
   "metadata": {},
   "outputs": [
    {
     "data": {
      "text/plain": [
       "Current Settings:\n",
       "  appName: $JShell$27\n",
       "  defaultEnvironmentConfig: null\n",
       "  defaultEnvironmentType: null\n",
       "  enforceEncodability: true\n",
       "  enforceImmutability: true\n",
       "  environmentOptions: null\n",
       "  experiments: null\n",
       "  filesToStage: null\n",
       "  gcsPerformanceMetrics: false\n",
       "  inputText: XXX YYY\n",
       "  optionsId: 0\n",
       "  resourceHints: []\n",
       "  runner: class org.apache.beam.runners.direct.DirectRunner\n",
       "  stableUniqueNames: WARNING\n"
      ]
     },
     "execution_count": 5,
     "metadata": {},
     "output_type": "execute_result"
    }
   ],
   "source": [
    "options"
   ]
  },
  {
   "cell_type": "code",
   "execution_count": null,
   "id": "144305b9",
   "metadata": {},
   "outputs": [],
   "source": []
  }
 ],
 "metadata": {
  "kernelspec": {
   "display_name": "Java",
   "language": "java",
   "name": "java"
  },
  "language_info": {
   "codemirror_mode": "java",
   "file_extension": ".jshell",
   "mimetype": "text/x-java-source",
   "name": "Java",
   "pygments_lexer": "java",
   "version": "11.0.16+8-post-Debian-1deb10u1"
  }
 },
 "nbformat": 4,
 "nbformat_minor": 5
}
