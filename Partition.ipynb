{
 "cells": [
  {
   "cell_type": "markdown",
   "id": "ecb7f722",
   "metadata": {},
   "source": [
    "# Apache Beam - Flatten"
   ]
  },
  {
   "cell_type": "markdown",
   "id": "1a283caf",
   "metadata": {},
   "source": [
    "Partition takes an input PCollection and creates a new set of PCollections from the original elements by applying a selection function to determine which of the new PCollections each of the elements should be sent to.\n",
    "\n",
    "\n",
    "* [JavaDoc: Class Partition](https://beam.apache.org/releases/javadoc/2.42.0/org/apache/beam/sdk/transforms/Partition.html)\n",
    "\n",
    "\n",
    "First, we define the dependencies that we wish to load from the Maven repositories."
   ]
  },
  {
   "cell_type": "code",
   "execution_count": 1,
   "id": "38402951",
   "metadata": {},
   "outputs": [],
   "source": [
    "%%loadFromPOM\n",
    "\n",
    "<dependency>\n",
    "  <groupId>org.apache.beam</groupId>\n",
    "  <artifactId>beam-sdks-java-core</artifactId>\n",
    "  <version>2.40.0</version>\n",
    "</dependency>\n",
    "\n",
    "<dependency>\n",
    "  <groupId>org.apache.beam</groupId>\n",
    "  <artifactId>beam-runners-direct-java</artifactId>\n",
    "  <version>2.40.0</version>\n",
    "  <scope>runtime</scope>\n",
    "</dependency>\n",
    "\n",
    "<dependency>\n",
    "  <groupId>org.slf4j</groupId>\n",
    "  <artifactId>slf4j-api</artifactId>\n",
    "  <version>2.0.6</version>\n",
    "</dependency>"
   ]
  },
  {
   "cell_type": "markdown",
   "id": "6211db4d",
   "metadata": {},
   "source": [
    "Next we define our imports required for execution."
   ]
  },
  {
   "cell_type": "code",
   "execution_count": 2,
   "id": "6a00821d",
   "metadata": {},
   "outputs": [],
   "source": [
    "import java.util.Arrays;\n",
    "import java.util.List;\n",
    "\n",
    "import org.apache.beam.sdk.Pipeline;\n",
    "import org.apache.beam.sdk.options.Default;\n",
    "import org.apache.beam.sdk.options.Description;\n",
    "import org.apache.beam.sdk.options.PipelineOptionsFactory;\n",
    "import org.apache.beam.sdk.options.PipelineOptions;\n",
    "import org.apache.beam.sdk.options.StreamingOptions;\n",
    "import org.apache.beam.sdk.transforms.Create;\n",
    "import org.apache.beam.sdk.transforms.GroupByKey;\n",
    "import org.apache.beam.sdk.values.PCollection;\n",
    "import org.apache.beam.sdk.transforms.DoFn;\n",
    "import org.apache.beam.sdk.transforms.ParDo;\n",
    "import org.apache.beam.sdk.coders.KvCoder;\n",
    "import org.apache.beam.sdk.coders.StringUtf8Coder;\n",
    "import org.apache.beam.sdk.values.KV;\n",
    "import org.apache.beam.sdk.values.PDone;\n",
    "import org.apache.beam.sdk.values.TupleTag;\n",
    "import org.apache.beam.sdk.transforms.join.CoGbkResult;\n",
    "import org.apache.beam.sdk.transforms.join.KeyedPCollectionTuple;\n",
    "import org.apache.beam.sdk.transforms.join.CoGroupByKey;\n",
    "import org.apache.beam.sdk.transforms.Combine.CombineFn;\n",
    "import org.apache.beam.sdk.transforms.Combine;\n",
    "import org.apache.beam.sdk.transforms.SerializableFunction;\n",
    "import org.apache.beam.sdk.transforms.Sum;\n",
    "import org.apache.beam.sdk.transforms.Flatten;\n",
    "import org.apache.beam.sdk.values.PCollectionList;\n",
    "import org.apache.beam.sdk.transforms.Partition;\n",
    "import org.apache.beam.sdk.transforms.Partition.PartitionFn;\n",
    "\n",
    "String args[] = new String[] {};\n",
    "var options = PipelineOptionsFactory.fromArgs(args).withValidation().create();"
   ]
  },
  {
   "cell_type": "markdown",
   "id": "b7108954",
   "metadata": {},
   "source": [
    "Here we Partition a single `PCollection` into two `PCollections` corresponding to whether the numbers are odd or even.  The result is a `PCollectionList` from which we can get each of the partitions."
   ]
  },
  {
   "cell_type": "code",
   "execution_count": 3,
   "id": "1b53365e",
   "metadata": {},
   "outputs": [
    {
     "name": "stdout",
     "output_type": "stream",
     "text": [
      "7\n",
      "5\n",
      "1\n",
      "3\n",
      "9\n"
     ]
    },
    {
     "data": {
      "text/plain": [
       "DONE"
      ]
     },
     "execution_count": 3,
     "metadata": {},
     "output_type": "execute_result"
    }
   ],
   "source": [
    "public class LoggingDoFn<T> extends DoFn<T, T>  {\n",
    "  @ProcessElement\n",
    "  public void processElement(@Element T element, OutputReceiver<T> out) {\n",
    "    System.out.println(element);\n",
    "    out.output(element);\n",
    "  }\n",
    "} // End of LoggingDoFn\n",
    "\n",
    "class MyPartitionFn implements PartitionFn<Integer> {\n",
    "  public int partitionFor(Integer elem, int numPartitions) {\n",
    "    if (elem % 2 == 0) {\n",
    "      return 0;\n",
    "    }\n",
    "    return 1;\n",
    "  }\n",
    "} // End of MyPartitionFn\n",
    "\n",
    "var pipeline = Pipeline.create(options);\n",
    "var single = pipeline\n",
    "  .apply(\"Create elements\", Create.of(1,2,3,4,5,6,7,8,9));\n",
    "var pCollectionList = single.apply(\"Partition elements\", Partition.of(2, new MyPartitionFn()));\n",
    "pCollectionList.get(1).apply(\"Print elements\", ParDo.of(new LoggingDoFn<>()));\n",
    "  \n",
    "pipeline.run().waitUntilFinish();"
   ]
  },
  {
   "cell_type": "code",
   "execution_count": null,
   "id": "de910d66",
   "metadata": {},
   "outputs": [],
   "source": []
  }
 ],
 "metadata": {
  "kernelspec": {
   "display_name": "Java",
   "language": "java",
   "name": "java"
  },
  "language_info": {
   "codemirror_mode": "java",
   "file_extension": ".jshell",
   "mimetype": "text/x-java-source",
   "name": "Java",
   "pygments_lexer": "java",
   "version": "11.0.16+8-post-Debian-1deb10u1"
  }
 },
 "nbformat": 4,
 "nbformat_minor": 5
}
